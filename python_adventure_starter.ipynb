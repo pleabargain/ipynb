{
  "nbformat": 4,
  "nbformat_minor": 0,
  "metadata": {
    "colab": {
      "name": "python adventure starter",
      "provenance": [],
      "authorship_tag": "ABX9TyPR7k/1dA9ZHKfvc4lOLbqR",
      "include_colab_link": true
    },
    "kernelspec": {
      "name": "python3",
      "display_name": "Python 3"
    },
    "language_info": {
      "name": "python"
    }
  },
  "cells": [
    {
      "cell_type": "markdown",
      "metadata": {
        "id": "view-in-github",
        "colab_type": "text"
      },
      "source": [
        "<a href=\"https://colab.research.google.com/github/pleabargain/ipynb/blob/master/python_adventure_starter.ipynb\" target=\"_parent\"><img src=\"https://colab.research.google.com/assets/colab-badge.svg\" alt=\"Open In Colab\"/></a>"
      ]
    },
    {
      "cell_type": "code",
      "metadata": {
        "id": "uDjSzQtDiqCb"
      },
      "source": [
        "#@title variables { run: \"auto\", vertical-output: true, display-mode: \"both\" }\n",
        "first_name = \"Samson\" #@param {type:\"string\"}\n",
        "last_name = \"Goldy\" #@param {type:\"string\"}\n",
        "# list of variables\n",
        "your_age = \"12\" #@param {type:\"string\"}\n",
        "# list of variables\n",
        "\n",
        "your_gender = \"boy\" #@param {type:\"string\"}\n",
        "# list of variables\n",
        "\n",
        "live_with = \"Aunt May\" #@param {type:\"string\"}\n",
        "# list of variables\n",
        "\n",
        "\n",
        "hair_length = \"short\" #@param {type:\"string\"}\n",
        "# list of variables \n",
        "hair_color = \"green\" #@param {type:\"string\"}\n",
        "# list of variables \n",
        "day_job = \"barista\" #@param {type:\"string\"}\n",
        "# list of variables\n",
        "\n",
        "place_you_live = \"Manhattan\" #@param {type:\"string\"}\n",
        "# list of variables\n",
        "best_friend_name = \"Able\" #@param {type:\"string\"}\n",
        "# list of variables\n",
        "\n",
        "secret_identity = \"clerk\" #@param {type:\"string\"}\n",
        "# list of variables\n",
        "\n",
        "superpower = \"laser eyes\" #@param {type:\"string\"}\n",
        "# list of variables\n",
        "\n",
        "color_of_suit = \"red\" #@param {type:\"string\"}\n",
        "# list of variables\n",
        "\n",
        "suit_detail = \"lightning bolt\" #@param {type:\"string\"}\n",
        "# list of variables\n",
        "\n",
        "archenemy_name = \"Lex\" #@param {type:\"string\"}\n",
        "# list of variables\n",
        "\n",
        "archenemy_power = \"break governments into small pieces\" #@param {type:\"string\"}\n",
        "# list of variables"
      ],
      "execution_count": 115,
      "outputs": []
    },
    {
      "cell_type": "markdown",
      "metadata": {
        "id": "Ncb80LvsrtDU"
      },
      "source": [
        "# text"
      ]
    },
    {
      "cell_type": "code",
      "metadata": {
        "colab": {
          "base_uri": "https://localhost:8080/"
        },
        "id": "1v8FgtmHit90",
        "outputId": "ffa4e69d-7da7-40bd-bbe8-c8ac04007c99"
      },
      "source": [
        "print (f\"\"\"You are {first_name} {last_name} a {your_age} year old {your_gender}. \n",
        "You have {hair_length} {hair_color} hair. You live with your {live_with}.\n",
        "You work as a {day_job} (When you aren’t saving people) during the day in {place_you_live}. \n",
        "You work with your best friend {best_friend_name}. \n",
        "{best_friend_name} is the only person who knows that you are a superhero.\n",
        "You trust them with the most important secret you have. You are a superhero. \n",
        "A very good one in fact. You are known as {secret_identity}. \n",
        "You have the powers to {superpower}. \n",
        "Of course you found it was best to keep a normal life so you wear a costume when you are saving people. \n",
        "Your costume is {color_of_suit} and has {suit_detail}. \n",
        "You haven’t been a superhero for long. But you have met someone who stands out among all the evil. \n",
        "{archenemy_name} has been the most annoying villain to deal with they have the power to {archenemy_power}. \n",
        "They haven’t been seen in the last week or two at all. \n",
        "You are starting to get worried that they are planning something.\"\"\")"
      ],
      "execution_count": 117,
      "outputs": [
        {
          "output_type": "stream",
          "text": [
            "You are Samson Goldy a 12 year old boy. \n",
            "You have short green hair. You live with your Aunt May.\n",
            "You work as a barista (When you aren’t saving people) during the day in Manhattan. \n",
            "You work with your best friend Able. \n",
            "Able is the only person who knows that you are a superhero.\n",
            "You trust them with the most important secret you have. You are a superhero. \n",
            "A very good one in fact. You are known as clerk. \n",
            "You have the powers to laser eyes. \n",
            "Of course you found it was best to keep a normal life so you wear a costume when you are saving people. \n",
            "Your costume is red and has lightning bolt. \n",
            "You haven’t been a superhero for long. But you have met someone who stands out among all the evil. \n",
            "Lex has been the most annoying villain to deal with they have the power to break governments into small pieces. \n",
            "They haven’t been seen in the last week or two at all. \n",
            "You are starting to get worried that they are planning something.\n"
          ],
          "name": "stdout"
        }
      ]
    },
    {
      "cell_type": "code",
      "metadata": {
        "id": "FVkpfm6Yse6p"
      },
      "source": [
        ""
      ],
      "execution_count": null,
      "outputs": []
    }
  ]
}