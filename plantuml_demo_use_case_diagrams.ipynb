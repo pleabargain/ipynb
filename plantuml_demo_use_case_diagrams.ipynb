{
  "nbformat": 4,
  "nbformat_minor": 0,
  "metadata": {
    "colab": {
      "name": "plantuml demo use case diagrams",
      "provenance": [],
      "collapsed_sections": [],
      "authorship_tag": "ABX9TyMWEpyIRfPtrQRJGI6by+2Z",
      "include_colab_link": true
    },
    "kernelspec": {
      "name": "python3",
      "display_name": "Python 3"
    },
    "language_info": {
      "name": "python"
    }
  },
  "cells": [
    {
      "cell_type": "markdown",
      "metadata": {
        "id": "view-in-github",
        "colab_type": "text"
      },
      "source": [
        "<a href=\"https://colab.research.google.com/github/pleabargain/ipynb/blob/master/plantuml_demo_use_case_diagrams.ipynb\" target=\"_parent\"><img src=\"https://colab.research.google.com/assets/colab-badge.svg\" alt=\"Open In Colab\"/></a>"
      ]
    },
    {
      "cell_type": "markdown",
      "metadata": {
        "id": "V8uB7bgka78w"
      },
      "source": [
        "# super simple use case demo!"
      ]
    },
    {
      "cell_type": "code",
      "metadata": {
        "colab": {
          "base_uri": "https://localhost:8080/"
        },
        "id": "U3fQ_srwTMsU",
        "outputId": "06682b0b-975e-46a3-d660-e069683bb1b0"
      },
      "source": [
        "! pip install plantuml\n"
      ],
      "execution_count": 74,
      "outputs": [
        {
          "output_type": "stream",
          "text": [
            "Requirement already satisfied: plantuml in /usr/local/lib/python3.7/dist-packages (0.3.0)\n",
            "Requirement already satisfied: httplib2 in /usr/local/lib/python3.7/dist-packages (from plantuml) (0.17.4)\n"
          ],
          "name": "stdout"
        }
      ]
    },
    {
      "cell_type": "code",
      "metadata": {
        "colab": {
          "base_uri": "https://localhost:8080/"
        },
        "id": "MGfjQZjPTFlO",
        "outputId": "16b8b6ac-fb19-4624-8ec6-df53ab5a7e70"
      },
      "source": [
        "f= open(\"/content/usecasediagram.txt\",\"w+\")\n",
        "f.write(f\"\"\":User: --> (Use)\n",
        "\"Main Admin\" as Admin\n",
        "\"Use the application\" as (Use)\n",
        "Admin --> (Admin the application)\"\"\")\n",
        "\n",
        "f.close()\n",
        "!python -m plantuml usecasediagram.txt"
      ],
      "execution_count": 76,
      "outputs": [
        {
          "output_type": "stream",
          "text": [
            "[{'filename': 'usecasediagram.txt', 'gen_success': True}]\n"
          ],
          "name": "stdout"
        }
      ]
    },
    {
      "cell_type": "code",
      "metadata": {
        "id": "LKnVVl_UUupe"
      },
      "source": [
        "!rm *.png"
      ],
      "execution_count": 84,
      "outputs": []
    },
    {
      "cell_type": "markdown",
      "metadata": {
        "id": "j1zA3VFhbP_B"
      },
      "source": [
        "# awesome layout use case"
      ]
    },
    {
      "cell_type": "code",
      "metadata": {
        "colab": {
          "base_uri": "https://localhost:8080/"
        },
        "id": "zgO_A2FzbT4R",
        "outputId": "902d12b5-7492-4ce2-d53d-34039ce45d35"
      },
      "source": [
        "f= open(\"/content/awesomelayout-usecasediagram.txt\",\"w+\")\n",
        "f.write(f\"\"\"skinparam actorStyle awesome\n",
        ":User: --> (Use)\n",
        "\"Main Admin\" as Admin\n",
        "\"Use the application\" as (Use)\n",
        "Admin --> (Admin the application)\"\"\")\n",
        "\n",
        "f.close()\n",
        "\n",
        "!python -m plantuml awesomelayout-usecasediagram.txt"
      ],
      "execution_count": 78,
      "outputs": [
        {
          "output_type": "stream",
          "text": [
            "[{'filename': 'awesomelayout-usecasediagram.txt', 'gen_success': True}]\n"
          ],
          "name": "stdout"
        }
      ]
    },
    {
      "cell_type": "markdown",
      "metadata": {
        "id": "7Lt3frhjcjF5"
      },
      "source": [
        "# food critic use case"
      ]
    },
    {
      "cell_type": "code",
      "metadata": {
        "colab": {
          "base_uri": "https://localhost:8080/"
        },
        "id": "QLLQ17h5ltDx",
        "outputId": "4c693bb6-6ffb-4f58-8891-004504825b22"
      },
      "source": [
        "def actor ():\n",
        "    return \"actor\"\n",
        "\n",
        "print(actor())"
      ],
      "execution_count": 82,
      "outputs": [
        {
          "output_type": "stream",
          "text": [
            "actor\n"
          ],
          "name": "stdout"
        }
      ]
    },
    {
      "cell_type": "code",
      "metadata": {
        "colab": {
          "base_uri": "https://localhost:8080/"
        },
        "id": "Tz9uJpjTcnbm",
        "outputId": "b5307433-5b0a-4fb7-8a32-28b99c0e5cf8"
      },
      "source": [
        "f= open(\"/content/foodcritic-usecasediagram.txt\",\"w+\")\n",
        "f.write(f\"\"\"left to right direction\n",
        "actor \"Food Critic\" as fc\n",
        "actor \"new {actor ()}\" as na\n",
        "usecase \"have a drink\" as a1\n",
        "usecase \"eat food\" as a3\n",
        "usecase \"complain\" as a2\n",
        "fc --> a1\n",
        "fc --> a2\n",
        "a2 --> a1\n",
        "a1 --> a2\n",
        "fc -->a3\n",
        "a3 --> a2\n",
        "a2 --> a2\n",
        "a2 --> a3\n",
        "\n",
        "\"\"\")\n",
        "\n",
        "f.close()\n",
        "\n",
        "!python -m plantuml foodcritic-usecasediagram.txt"
      ],
      "execution_count": 85,
      "outputs": [
        {
          "output_type": "stream",
          "text": [
            "[{'filename': 'foodcritic-usecasediagram.txt', 'gen_success': True}]\n"
          ],
          "name": "stdout"
        }
      ]
    },
    {
      "cell_type": "markdown",
      "metadata": {
        "id": "VKr4ggwefH-z"
      },
      "source": [
        "# play some more"
      ]
    },
    {
      "cell_type": "code",
      "metadata": {
        "colab": {
          "base_uri": "https://localhost:8080/"
        },
        "id": "XG6R1imLfJoU",
        "outputId": "c0796218-73b4-4c2c-f22c-dc99ba5a47af"
      },
      "source": [
        "f= open(\"/content/play-usecasediagram.txt\",\"w+\")\n",
        "f.write(f\"\"\"left to right direction\n",
        "actor \"Fun Guy\" as fg\n",
        "actor \"Fun Girl\" as fg2\n",
        "usecase \"have fun\" as a1\n",
        "\n",
        "fg --> a1\n",
        "fg2 --> a1\n",
        "\n",
        "\"\"\")\n",
        "\n",
        "f.close()\n",
        "\n",
        "!python -m plantuml play-usecasediagram.txt"
      ],
      "execution_count": 68,
      "outputs": [
        {
          "output_type": "stream",
          "text": [
            "[{'filename': 'play-usecasediagram.txt', 'gen_success': True}]\n"
          ],
          "name": "stdout"
        }
      ]
    }
  ]
}