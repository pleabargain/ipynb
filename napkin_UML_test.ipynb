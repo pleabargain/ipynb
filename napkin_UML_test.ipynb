{
  "nbformat": 4,
  "nbformat_minor": 0,
  "metadata": {
    "colab": {
      "name": "napkin UML test",
      "provenance": [],
      "authorship_tag": "ABX9TyNwzRxf712xu0AMsr7IPxP9",
      "include_colab_link": true
    },
    "kernelspec": {
      "name": "python3",
      "display_name": "Python 3"
    },
    "language_info": {
      "name": "python"
    }
  },
  "cells": [
    {
      "cell_type": "markdown",
      "metadata": {
        "id": "view-in-github",
        "colab_type": "text"
      },
      "source": [
        "<a href=\"https://colab.research.google.com/github/pleabargain/ipynb/blob/master/napkin_UML_test.ipynb\" target=\"_parent\"><img src=\"https://colab.research.google.com/assets/colab-badge.svg\" alt=\"Open In Colab\"/></a>"
      ]
    },
    {
      "cell_type": "markdown",
      "metadata": {
        "id": "iftXSHnfTitD"
      },
      "source": [
        "# motivation\n",
        "I want to be able to pass results of a python function to a sequence diagram."
      ]
    },
    {
      "cell_type": "code",
      "metadata": {
        "colab": {
          "base_uri": "https://localhost:8080/"
        },
        "id": "_KAV6YWHRKOn",
        "outputId": "2a02bd39-1bd6-4a42-b4f8-ffd1fdc1f647"
      },
      "source": [
        "!pip install napkin==0.6.8\n",
        "import napkin"
      ],
      "execution_count": 3,
      "outputs": [
        {
          "output_type": "stream",
          "text": [
            "Requirement already satisfied: napkin==0.6.8 in /usr/local/lib/python3.7/dist-packages (0.6.8)\n",
            "Requirement already satisfied: requests in /usr/local/lib/python3.7/dist-packages (from napkin==0.6.8) (2.23.0)\n",
            "Requirement already satisfied: certifi>=2017.4.17 in /usr/local/lib/python3.7/dist-packages (from requests->napkin==0.6.8) (2020.12.5)\n",
            "Requirement already satisfied: idna<3,>=2.5 in /usr/local/lib/python3.7/dist-packages (from requests->napkin==0.6.8) (2.10)\n",
            "Requirement already satisfied: chardet<4,>=3.0.2 in /usr/local/lib/python3.7/dist-packages (from requests->napkin==0.6.8) (3.0.4)\n",
            "Requirement already satisfied: urllib3!=1.25.0,!=1.25.1,<1.26,>=1.21.1 in /usr/local/lib/python3.7/dist-packages (from requests->napkin==0.6.8) (1.24.3)\n"
          ],
          "name": "stdout"
        }
      ]
    },
    {
      "cell_type": "markdown",
      "metadata": {
        "id": "2jHsM_YRRaT6"
      },
      "source": [
        "test code"
      ]
    },
    {
      "cell_type": "code",
      "metadata": {
        "colab": {
          "base_uri": "https://localhost:8080/",
          "height": 191
        },
        "id": "gZjCl3ZURbPh",
        "outputId": "4348d7c1-827a-4068-c6e3-c84ac7dbf548"
      },
      "source": [
        "@napkin.seq_diagram('Notes')\n",
        "def ex_notes(c):\n",
        "    foo = c.object('Foo')\n",
        "    bar = c.object('Bar')\n",
        "    baz = c.object('Baz')\n",
        "\n",
        "    foo.note('Note over object')\n",
        "    bar.note('Note over object')\n",
        "\n",
        "    with foo:\n",
        "        c.note('Note over the current context')\n",
        "        with bar.very_long_name_function():\n",
        "            c.note('Note over the current context with\\n'\n",
        "                   'multiple lines')\n",
        "            baz.another_very_long_name_function()\n",
        "\n",
        "    # Note per call\n",
        "    with foo:\n",
        "        bar.func1().note('callee side notes')\n",
        "        bar.func2().note(caller='caller side notes')\n",
        "        bar.func3().note(callee='callee side notes',\n",
        "                         caller=('caller side notes over\\n'\n",
        "                                 'multiple lines'))\n",
        "        # For self call\n",
        "        foo.func4().note(callee='callee side of self-call',\n",
        "                         caller='caller side of self-call')\n",
        "        \n",
        "ex_notes(c)"
      ],
      "execution_count": 7,
      "outputs": [
        {
          "output_type": "error",
          "ename": "NameError",
          "evalue": "ignored",
          "traceback": [
            "\u001b[0;31m---------------------------------------------------------------------------\u001b[0m",
            "\u001b[0;31mNameError\u001b[0m                                 Traceback (most recent call last)",
            "\u001b[0;32m<ipython-input-7-3f700e2a7829>\u001b[0m in \u001b[0;36m<module>\u001b[0;34m()\u001b[0m\n\u001b[1;32m     26\u001b[0m                          caller='caller side of self-call')\n\u001b[1;32m     27\u001b[0m \u001b[0;34m\u001b[0m\u001b[0m\n\u001b[0;32m---> 28\u001b[0;31m \u001b[0mex_notes\u001b[0m\u001b[0;34m(\u001b[0m\u001b[0mc\u001b[0m\u001b[0;34m)\u001b[0m\u001b[0;34m\u001b[0m\u001b[0;34m\u001b[0m\u001b[0m\n\u001b[0m",
            "\u001b[0;31mNameError\u001b[0m: name 'c' is not defined"
          ]
        }
      ]
    },
    {
      "cell_type": "code",
      "metadata": {
        "colab": {
          "base_uri": "https://localhost:8080/"
        },
        "id": "e7shL8DWSIAn",
        "outputId": "ccb9186e-d66e-450e-8dd2-5fecf453668c"
      },
      "source": [
        "import napkin\n",
        "\n",
        "@napkin.seq_diagram()\n",
        "def hello_world(c):\n",
        "    user = c.object('user')\n",
        "    world = c.object('world')\n",
        "    with user:\n",
        "        world.hello()\n",
        "!python -m napkin hello.py"
      ],
      "execution_count": 14,
      "outputs": [
        {
          "output_type": "stream",
          "text": [
            "Traceback (most recent call last):\n",
            "  File \"/usr/lib/python3.7/runpy.py\", line 193, in _run_module_as_main\n",
            "    \"__main__\", mod_spec)\n",
            "  File \"/usr/lib/python3.7/runpy.py\", line 85, in _run_code\n",
            "    exec(code, run_globals)\n",
            "  File \"/usr/local/lib/python3.7/dist-packages/napkin/__main__.py\", line 3, in <module>\n",
            "    main()\n",
            "  File \"/usr/local/lib/python3.7/dist-packages/napkin/cli.py\", line 67, in main\n",
            "    _import_script(fname)\n",
            "  File \"/usr/local/lib/python3.7/dist-packages/napkin/cli.py\", line 45, in _import_script\n",
            "    with open(fname, 'rt') as f:\n",
            "FileNotFoundError: [Errno 2] No such file or directory: 'hello.py'\n"
          ],
          "name": "stdout"
        }
      ]
    },
    {
      "cell_type": "code",
      "metadata": {
        "colab": {
          "base_uri": "https://localhost:8080/"
        },
        "id": "s2i_qRjiSV9X",
        "outputId": "4826bc85-782b-45c7-a22f-c728b66eaed5"
      },
      "source": [
        ""
      ],
      "execution_count": 11,
      "outputs": [
        {
          "output_type": "stream",
          "text": [
            "Traceback (most recent call last):\n",
            "  File \"/usr/local/bin/napkin\", line 8, in <module>\n",
            "    sys.exit(main())\n",
            "  File \"/usr/local/lib/python3.7/dist-packages/napkin/cli.py\", line 67, in main\n",
            "    _import_script(fname)\n",
            "  File \"/usr/local/lib/python3.7/dist-packages/napkin/cli.py\", line 45, in _import_script\n",
            "    with open(fname, 'rt') as f:\n",
            "FileNotFoundError: [Errno 2] No such file or directory: 'hello.py'\n"
          ],
          "name": "stdout"
        }
      ]
    }
  ]
}