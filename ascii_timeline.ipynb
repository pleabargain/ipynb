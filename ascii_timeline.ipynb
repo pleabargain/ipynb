{
  "nbformat": 4,
  "nbformat_minor": 0,
  "metadata": {
    "colab": {
      "name": "ascii timeline",
      "provenance": [],
      "authorship_tag": "ABX9TyPbANiv3IGfwF319L3JINUk",
      "include_colab_link": true
    },
    "kernelspec": {
      "name": "python3",
      "display_name": "Python 3"
    },
    "language_info": {
      "name": "python"
    }
  },
  "cells": [
    {
      "cell_type": "markdown",
      "metadata": {
        "id": "view-in-github",
        "colab_type": "text"
      },
      "source": [
        "<a href=\"https://colab.research.google.com/github/pleabargain/ipynb/blob/master/ascii_timeline.ipynb\" target=\"_parent\"><img src=\"https://colab.research.google.com/assets/colab-badge.svg\" alt=\"Open In Colab\"/></a>"
      ]
    },
    {
      "cell_type": "code",
      "metadata": {
        "id": "QrX065_vK3GD"
      },
      "source": [
        ""
      ],
      "execution_count": null,
      "outputs": []
    },
    {
      "cell_type": "markdown",
      "metadata": {
        "id": "TRPCMYznjJts"
      },
      "source": [
        "# ascii timeline\n",
        "Keeping this as a reference.\n",
        "I don't recommend using ascii unless it is generated algorithmically!"
      ]
    },
    {
      "cell_type": "code",
      "metadata": {
        "colab": {
          "base_uri": "https://localhost:8080/",
          "height": 256
        },
        "id": "to7jkZLNu-HU",
        "outputId": "f4bd6d95-c38c-4e5f-e972-827f2249924f"
      },
      "source": [
        "print(f\"\"\"                    {r_past_simple()}                    {r_present_simple()}                   {r_future_simple()}\n",
        "                                      │                                    │\n",
        "                                      │                                    │\n",
        "              {r_past_continuous()}                              {r_present_continuous()}               {r_future_continuous()}\n",
        "                          │           │                                │   │                         │\n",
        "    ──────────┐           │        ┌──┼─────────┐                      ▼   │ ┌─────────────┐         ▼\n",
        "              │         ┌─▼┐       │  │         │                     ┌┬┐  │ │             │        ┌┬┐\n",
        "    ──────────┼─────────┴──┴───────┼──┼─────────┼─────────────────────┴─┴──┼─┼─▲───────────┼────────┴─┘►\n",
        "              │                    │  │         │                          │ │ │           │\n",
        "    ───▲─────▲┘                    └──┼────▲────┘                          │ └─┼───────────┘\n",
        "       │     │                        │    │    ▲                          │   │           ▲\n",
        "       │     │                        │    │    │                              │           │\n",
        "       │     │                             │    {r_present_perfect()}          │            {r_future_perfect()}\n",
        "       {r_past_perfect()}                  │                                   │\n",
        "       │                                   │                                   │    \n",
        "       │                                   │                                   │ \n",
        "       │                                   │                                   │           \n",
        "       │                                   │                               \n",
        "       \n",
        "{r_past_perfect_continuous()}          {r_present_perfect_continuous()}                  {r_future_perfect_continuous()}\"\"\")"
      ],
      "execution_count": null,
      "outputs": [
        {
          "output_type": "stream",
          "text": [
            "ERROR:root:An unexpected error occurred while tokenizing input\n",
            "The following traceback may be corrupted or invalid\n",
            "The error message is: ('EOF in multi-line string', (1, 120))\n",
            "\n"
          ],
          "name": "stderr"
        },
        {
          "output_type": "error",
          "ename": "NameError",
          "evalue": "ignored",
          "traceback": [
            "\u001b[0;31m---------------------------------------------------------------------------\u001b[0m",
            "\u001b[0;31mNameError\u001b[0m                                 Traceback (most recent call last)",
            "\u001b[0;32m<ipython-input-3-05d4467dc6e9>\u001b[0m in \u001b[0;36m<module>\u001b[0;34m()\u001b[0m\n\u001b[1;32m     18\u001b[0m        \u001b[0;31m│\u001b[0m\u001b[0;31m \u001b[0m\u001b[0;31m \u001b[0m\u001b[0;31m \u001b[0m\u001b[0;31m \u001b[0m\u001b[0;31m \u001b[0m\u001b[0;31m \u001b[0m\u001b[0;31m \u001b[0m\u001b[0;31m \u001b[0m\u001b[0;31m \u001b[0m\u001b[0;31m \u001b[0m\u001b[0;31m \u001b[0m\u001b[0;31m \u001b[0m\u001b[0;31m \u001b[0m\u001b[0;31m \u001b[0m\u001b[0;31m \u001b[0m\u001b[0;31m \u001b[0m\u001b[0;31m \u001b[0m\u001b[0;31m \u001b[0m\u001b[0;31m \u001b[0m\u001b[0;31m \u001b[0m\u001b[0;31m \u001b[0m\u001b[0;31m \u001b[0m\u001b[0;31m \u001b[0m\u001b[0;31m \u001b[0m\u001b[0;31m \u001b[0m\u001b[0;31m \u001b[0m\u001b[0;31m \u001b[0m\u001b[0;31m \u001b[0m\u001b[0;31m \u001b[0m\u001b[0;31m \u001b[0m\u001b[0;31m \u001b[0m\u001b[0;31m \u001b[0m\u001b[0;31m \u001b[0m\u001b[0;31m \u001b[0m\u001b[0;31m \u001b[0m\u001b[0;31m│\u001b[0m\u001b[0;34m\u001b[0m\u001b[0;34m\u001b[0m\u001b[0m\n\u001b[1;32m     19\u001b[0m \u001b[0;34m\u001b[0m\u001b[0m\n\u001b[0;32m---> 20\u001b[0;31m {r_past_perfect_continuous()}          {r_present_perfect_continuous()}                  {r_future_perfect_continuous()}\"\"\")\n\u001b[0m",
            "\u001b[0;31mNameError\u001b[0m: name 'r_past_simple' is not defined"
          ]
        }
      ]
    }
  ]
}