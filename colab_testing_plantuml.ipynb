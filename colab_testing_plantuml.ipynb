{
  "nbformat": 4,
  "nbformat_minor": 0,
  "metadata": {
    "colab": {
      "name": "colab testing plantuml",
      "provenance": [],
      "collapsed_sections": [],
      "authorship_tag": "ABX9TyOKecG5k7IcjLSnnX9ZZrui",
      "include_colab_link": true
    },
    "kernelspec": {
      "name": "python3",
      "display_name": "Python 3"
    },
    "language_info": {
      "name": "python"
    }
  },
  "cells": [
    {
      "cell_type": "markdown",
      "metadata": {
        "id": "view-in-github",
        "colab_type": "text"
      },
      "source": [
        "<a href=\"https://colab.research.google.com/github/pleabargain/ipynb/blob/master/colab_testing_plantuml.ipynb\" target=\"_parent\"><img src=\"https://colab.research.google.com/assets/colab-badge.svg\" alt=\"Open In Colab\"/></a>"
      ]
    },
    {
      "cell_type": "markdown",
      "metadata": {
        "id": "u7vI6u8rQ1Id"
      },
      "source": [
        "\n",
        "I want to pass the values of functions from python to the sequence diagram.\n",
        "\n",
        "PlantUML doesn't appear to support that.\n"
      ]
    },
    {
      "cell_type": "code",
      "metadata": {
        "colab": {
          "base_uri": "https://localhost:8080/"
        },
        "id": "dZJPfPF8OLGe",
        "outputId": "4ed400f0-c4ef-4899-f62e-a34e7e90adb4"
      },
      "source": [
        "! pip install plantuml\n"
      ],
      "execution_count": 12,
      "outputs": [
        {
          "output_type": "stream",
          "text": [
            "Requirement already satisfied: plantuml in /usr/local/lib/python3.7/dist-packages (0.3.0)\n",
            "Requirement already satisfied: httplib2 in /usr/local/lib/python3.7/dist-packages (from plantuml) (0.17.4)\n"
          ],
          "name": "stdout"
        }
      ]
    },
    {
      "cell_type": "code",
      "metadata": {
        "colab": {
          "base_uri": "https://localhost:8080/"
        },
        "id": "gudortscOwxL",
        "outputId": "f41c6902-35ad-408e-a43e-93cd8bb45eb2"
      },
      "source": [
        "def sometext():\n",
        "    return ('some textt')\n",
        "\n",
        "print(sometext())"
      ],
      "execution_count": 13,
      "outputs": [
        {
          "output_type": "stream",
          "text": [
            "some textt\n"
          ],
          "name": "stdout"
        }
      ]
    },
    {
      "cell_type": "markdown",
      "metadata": {
        "id": "eCsPOW0wOT5H"
      },
      "source": [
        "# New Section"
      ]
    },
    {
      "cell_type": "code",
      "metadata": {
        "colab": {
          "base_uri": "https://localhost:8080/"
        },
        "id": "bOBOA3oGOejk",
        "outputId": "3e108396-a28c-4f47-f238-ad8e98509edf"
      },
      "source": [
        "!python -m plantuml new1.txt\n",
        "# plantuml new1.txt "
      ],
      "execution_count": 15,
      "outputs": [
        {
          "output_type": "stream",
          "text": [
            "[{'filename': 'new1.txt', 'gen_success': True}]\n"
          ],
          "name": "stdout"
        }
      ]
    }
  ]
}