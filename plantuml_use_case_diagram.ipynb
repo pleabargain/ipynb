{
  "nbformat": 4,
  "nbformat_minor": 0,
  "metadata": {
    "colab": {
      "name": "plantuml use case diagram",
      "provenance": [],
      "collapsed_sections": [],
      "authorship_tag": "ABX9TyNRgmcB8WPuSLG7ZxmUPk0L",
      "include_colab_link": true
    },
    "kernelspec": {
      "name": "python3",
      "display_name": "Python 3"
    },
    "language_info": {
      "name": "python"
    }
  },
  "cells": [
    {
      "cell_type": "markdown",
      "metadata": {
        "id": "view-in-github",
        "colab_type": "text"
      },
      "source": [
        "<a href=\"https://colab.research.google.com/github/pleabargain/ipynb/blob/master/plantuml_use_case_diagram.ipynb\" target=\"_parent\"><img src=\"https://colab.research.google.com/assets/colab-badge.svg\" alt=\"Open In Colab\"/></a>"
      ]
    },
    {
      "cell_type": "markdown",
      "metadata": {
        "id": "V8uB7bgka78w"
      },
      "source": [
        "# super simple use case demo!"
      ]
    },
    {
      "cell_type": "code",
      "metadata": {
        "colab": {
          "base_uri": "https://localhost:8080/"
        },
        "id": "U3fQ_srwTMsU",
        "outputId": "bd9f2f3c-61f1-48af-e08f-60fefa49bc3b"
      },
      "source": [
        "! pip install plantuml\n"
      ],
      "execution_count": 1,
      "outputs": [
        {
          "output_type": "stream",
          "text": [
            "Collecting plantuml\n",
            "  Downloading https://files.pythonhosted.org/packages/a9/1a/4603314acf466fdad91b7f6c83eb1364a7e279f9a8805febe3554f17faf6/plantuml-0.3.0-py3-none-any.whl\n",
            "Requirement already satisfied: httplib2 in /usr/local/lib/python3.7/dist-packages (from plantuml) (0.17.4)\n",
            "Installing collected packages: plantuml\n",
            "Successfully installed plantuml-0.3.0\n"
          ],
          "name": "stdout"
        }
      ]
    },
    {
      "cell_type": "code",
      "metadata": {
        "id": "MGfjQZjPTFlO"
      },
      "source": [
        "f= open(\"/content/usecasediagram.txt\",\"w+\")\n",
        "f.write(f\"\"\":User: --> (Use)\n",
        "\"Main Admin\" as Admin\n",
        "\"Use the application\" as (Use)\n",
        "Admin --> (Admin the application)\"\"\")\n",
        "\n",
        "f.close()"
      ],
      "execution_count": 16,
      "outputs": []
    },
    {
      "cell_type": "code",
      "metadata": {
        "colab": {
          "base_uri": "https://localhost:8080/"
        },
        "id": "LKnVVl_UUupe",
        "outputId": "9f5ce925-23fc-405c-be9a-36b1ca751f40"
      },
      "source": [
        "!rm *.png"
      ],
      "execution_count": 17,
      "outputs": [
        {
          "output_type": "stream",
          "text": [
            "rm: cannot remove '*.png': No such file or directory\n"
          ],
          "name": "stdout"
        }
      ]
    },
    {
      "cell_type": "code",
      "metadata": {
        "colab": {
          "base_uri": "https://localhost:8080/"
        },
        "id": "dd1lLCElTSD6",
        "outputId": "84238c11-7fff-4544-e080-93d9a38cc96a"
      },
      "source": [
        "!python -m plantuml usecasediagram.txt"
      ],
      "execution_count": 18,
      "outputs": [
        {
          "output_type": "stream",
          "text": [
            "[{'filename': 'usecasediagram.txt', 'gen_success': True}]\n"
          ],
          "name": "stdout"
        }
      ]
    }
  ]
}