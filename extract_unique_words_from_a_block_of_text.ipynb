{
  "nbformat": 4,
  "nbformat_minor": 0,
  "metadata": {
    "colab": {
      "name": "extract unique words from a block of text",
      "provenance": [],
      "authorship_tag": "ABX9TyPsKtukh2JvaIUFwQk9ZjwK",
      "include_colab_link": true
    },
    "kernelspec": {
      "name": "python3",
      "display_name": "Python 3"
    },
    "language_info": {
      "name": "python"
    }
  },
  "cells": [
    {
      "cell_type": "markdown",
      "metadata": {
        "id": "view-in-github",
        "colab_type": "text"
      },
      "source": [
        "<a href=\"https://colab.research.google.com/github/pleabargain/ipynb/blob/master/extract_unique_words_from_a_block_of_text.ipynb\" target=\"_parent\"><img src=\"https://colab.research.google.com/assets/colab-badge.svg\" alt=\"Open In Colab\"/></a>"
      ]
    },
    {
      "cell_type": "code",
      "metadata": {
        "id": "BUu10HtANooz"
      },
      "source": [
        "f= open(\"/content/source_text.txt\",\"w+\")\n",
        "f.write(f\"\"\"For some reason, everybody loves to criticize the millennial generation.\n",
        "We’re criticized for our dating habits, spending habits, career choices, and general way of living. And yes, sometimes our decision-making process might be a little unorthodox, and you could even say spontaneous, but can you really blame us?\n",
        "We were brought up during a period in time where huge waves of change were crashing upon us. There was a turn in the tide with the economy crashing. We’ve had to deal with an increase in racial divide, and can’t forget to mention, the big boom in technological advances — and that’s only to name a few.\n",
        "So, it shouldn’t be such a surprise for older generations to learn that this collective wave of change has greatly impacted the very habits that we’re criticized for.\n",
        "Among the laundry list of things that we’re often criticized for, home buying is pretty high up on that list. And I can say for myself that it’s something that has also been top of mind recently.\n",
        "As a 30-year old who’s recently been married and has been part of the white-collar working class for nearly the past decade, I can’t really complain about my life situation too much.\n",
        "Yes, I still have my fair share of issues, but don’t we all? Fundamentally though, I know that I’m doing pretty well for myself in the grand scheme of things. However, even even though I’m financially stable and have a steady job, it still doesn’t mean that my husband and I are anywhere near the start of buying a home yet. And there are many reasons for that, which I know I’m not alone in saying. Here are a few:\n",
        "We honestly can’t afford it\n",
        "I’m not even exaggerating when I say that buying a house seems somewhat financially impossible these days. I can’t necessarily attribute this to personal experience — I can only go off of what my friends and colleagues are telling me — but, based on the feedback from others, I know it’s rough.\n",
        "Although I’m not in the home buying process myself, I’m very much aware of the fact that housing prices, amidst the pandemic, have skyrocketed beyond belief.\n",
        "According to many of my friends who are actively house-hunting, houses are well above the asking prices and not by just a few thousand dollars, but by a hundred thousand or more, which is pretty ridiculous if you ask me. Of course, what can you do when the demand is there, but not the supply? It’s basic economics.\n",
        "We don’t know where we want to settle down yet\n",
        "Buying a home is essentially saying that you’re ready to settle down and stay in one place. At least, that’s how I interpret it. Frankly, just deciding on an apartment to live in is already stressful enough, let alone buying an entire home.\n",
        "The pandemic has changed our perception, and we’re all rethinking our way of life and the idea of staying in one place for the rest of our lives. We’re re-evaluating our careers, the type of location we want to live in, and what we want out of life as a whole. And for many of us, we haven’t quite figured it out yet. Buying a home seems like such a permanent thing, and many of us aren’t quite ready for that sense of permanence yet.\n",
        "We don’t really need the extra space\n",
        "Millennials and those who even younger than millennials aren’t checking off the same boxes, in the same order as generations before us have. Not all of us have stable jobs. Not all of us married with kids. Not all of us are married at all. And not all of us are even anywhere near a serious relationship. Some of us might not even want marriage or a family.\n",
        "Our values and priorities have changed because we have the luxury and the privilege to choose against the “norm” and make decisions that don’t necessarily go along with the status quo. And because of that, buying a house is one of those decisions. Buying a house seems like extra baggage for those of us who don’t need it.\n",
        "If we are married and we don’t have kids, then the extra space that comes with buying a house just seems like wasted space. I don’t know what I would do with a whole house. I’ve been living in apartments in New York City for nearly a decade, and I can’t complain about it. Of course, when the time comes, maybe I’ll have a different opinion, but for now, I’m happy with what I have.\n",
        "It might be a little difficult for older generations to understand the logic behind our life choices, but hopefully, they can try. Hopefully, they can try to put themselves in our shoes and realize that times have truly changed in many ways, and because of that, we’ve had to pivot. We’ve had to adapt.\n",
        "And there is absolutely nothing wrong with adapting to change.\n",
        "I know that some adapt to change more quickly than others, but whether you like it or not, change always does comes. Millennials, too, will eventually be the older generation, and I just hope for myself and my generation that we are less criticizing than the generations before us have been.\n",
        "\"\"\")\n",
        "f.close()\n",
        "\n",
        "example1 = \"/content/source_text.txt\"\n",
        "with open(example1, \"r\") as file1:\n",
        "    FileasList = file1.readlines()"
      ],
      "execution_count": 11,
      "outputs": []
    },
    {
      "cell_type": "code",
      "metadata": {
        "colab": {
          "base_uri": "https://localhost:8080/"
        },
        "id": "yNdX0J2tNZFq",
        "outputId": "0ea76b37-f53d-4c9a-9d7a-cb25d99313af"
      },
      "source": [
        "from itertools import chain\n",
        "\n",
        "def unique_words(lines):\n",
        "    return set(chain(*(line.split() for line in lines if line)))\n",
        "\n",
        "with open(\"/content/source_text.txt\", 'r') as f:\n",
        "    print(unique_words(f))"
      ],
      "execution_count": 15,
      "outputs": [
        {
          "output_type": "stream",
          "text": [
            "{'thousand', 'increase', 'criticized', 'it.', 'such', 'nearly', 'job,', 'impacted', 'careers,', 'type', 'is', 'fair', 'colleagues', 'choices,', 'wave', 'from', 'ridiculous', 'anywhere', 'wrong', 'husband', 'checking', 'where', 'rest', 'but,', 'mention,', 'perception,', 'quo.', 'boxes,', 'pandemic,', 'on', 'permanence', 'try', 'not,', 'had', 'who', 'skyrocketed', 'supply?', 'house', 'economics.', 'younger', 'complain', 'it', 'this', 'sometimes', '—', 'want', 'crashing', 'attribute', 'few', 'hopefully,', 'also', 'place', 'always', 're-evaluating', 'I', 'location', 'only', 'that', 'There', 'figured', 'based', 'with', 'few:', 'City', 'don’t', 'entire', 'than', 'recently', 'too', 'doesn’t', 'actively', 'reason,', 'However,', 'seems', 'all.', 'interpret', 'learn', 'list', 'start', 'apartment', 'myself,', 'along', 'whether', 'more,', 'you', 'doing', 'time', 'idea', 'tide', 'absolutely', 'Our', 'decade,', 'amidst', 'saying', 'comes,', 'laundry', 'can’t', 'at', 'there,', 'living.', 'one', 'technological', 'but', 'home', 'course,', 'big', 'huge', 'criticizing', 'older', 'luxury', 'often', 'us', 'Hopefully,', 'us,', 'generation', 'saying.', 'the', 'millennial', 'has', 'yet.', 'turn', 'choose', 'were', 'myself', 'thing,', 'unorthodox,', 'now,', 'apartments', 'that,', 'whole', 'much', 'generations', 'feedback', 'which', 'hope', 'nothing', 'have', 'rethinking', 'general', 'would', 'loves', 'way', 'fact', 'little', 'realize', 'shoes', 'will', 'least,', 'as', 'days.', 'telling', 'aware', 'So,', 'others,', 'well', 'aren’t', 'like', 'against', 'make', 'changed', 'experience', 'habits,', 'old', 'staying', 'we', 'been.', 'situation', 'you’re', 'times', 'settle', 'deal', 'different', 'things', 'Buying', 'or', 'be', 'our', 'yet', 'Fundamentally', 'scheme', 'change', 'too,', 'marriage', 'If', 'Of', 'extra', 'pivot.', 'comes.', 'to', 'list.', 'do', 'space', 'Some', 'It', 'According', 'they', 'does', '“norm”', 'whole.', 'comes', 'career', 'We', 'because', 'themselves', 'know', 'we’re', 'Although', 'something', 'near', 'Not', 'there', 'collective', 'kids,', 'racial', 'prices', 'class', 'grand', 'generation.', 'before', 'reasons', 'of', 'wasted', 'those', 'period', 'belief.', 'shouldn’t', 'somewhat', 'my', 'white-collar', 'And', 'criticize', 'quickly', 'recently.', 'life', 'deciding', 'Millennials,', 'I’ve', 'what', 'then', 'part', 'stable', 'me', 'surprise', 'decisions.', 'stay', 'same', 'off', 'few.', 'lives.', 'top', 'already', 'process', 'honestly', 'privilege', 'brought', 'blame', 'an', 'ready', 'haven’t', 'forget', 'that’s', 'We’re', 'asking', 'alone', 'adapting', 'might', 'Among', 'family.', 'logic', 'beyond', 'basic', 'understand', 'serious', 'opinion,', 'change.', 'economy', 'share', 'greatly', 'been', 'maybe', 'dollars,', 'us.', 'was', 'At', 'these', 'issues,', 'everybody', 'down', 'can', 'just', 'It’s', 'out', 'priorities', 'space.', 'crashing.', 'up', 'waves', 'not', 'yes,', 'about', 'relationship.', 'eventually', 'for.', 'things.', 'still', 'above', 'difficult', 'mean', 'ways,', '30-year', 'when', 'advances', 'working', 'less', 'friends', 'enough,', 'very', 'jobs.', 'have.', 'how', 'all?', 'afford', 'happy', 'even', 'We’ve', 'hundred', 'adapt.', 'As', 'could', 'say', 'truly', 'quite', 'let', 'place.', 'spending', 'who’s', 'habits', 'ask', 'during', 'rough.', 'baggage', 'though', 'really', 'for,', 'generation,', 'necessarily', 'mind', 'divide,', 'many', 'spontaneous,', 'though,', 'houses', 'married', 'more', 'much.', 'Here', 'a', 'decisions', 'are', 'Yes,', 'permanent', 'house.', 'buying', 'millennials', 'For', 'stressful', 'personal', 'status', 'need', 'York', 'and', 'financially', 'adapt', 'I’m', 'by', 'Frankly,', 'some', 'I’ll', 'past', 'home.', 'Millennials', 'values', 'house-hunting,', 'essentially', 'for', 'if', 'decision-making', 'name', 'boom', 'pandemic', 'order', 'me.', 'sense', 'upon', 'try.', 'pretty', 'high', 'steady', 'living', 'in', 'live', 'The', 'exaggerating', 'prices,', 'we’ve', 'kids.', 'us?', 'New', 'in,', 'all', 'dating', 'go', 'behind', 'impossible', 'it’s', 'put', 'housing', 'demand'}\n"
          ],
          "name": "stdout"
        }
      ]
    }
  ]
}