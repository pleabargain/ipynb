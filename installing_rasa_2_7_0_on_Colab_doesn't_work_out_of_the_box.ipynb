{
  "nbformat": 4,
  "nbformat_minor": 0,
  "metadata": {
    "colab": {
      "name": "installing rasa 2.7.0 on Colab doesn't work out of the box",
      "provenance": [],
      "collapsed_sections": [],
      "toc_visible": true,
      "authorship_tag": "ABX9TyO4qmoF2RUhFOtl2d1cGlvD",
      "include_colab_link": true
    },
    "kernelspec": {
      "name": "python3",
      "display_name": "Python 3"
    },
    "language_info": {
      "name": "python"
    }
  },
  "cells": [
    {
      "cell_type": "markdown",
      "metadata": {
        "id": "view-in-github",
        "colab_type": "text"
      },
      "source": [
        "<a href=\"https://colab.research.google.com/github/pleabargain/ipynb/blob/master/installing_rasa_2_7_0_on_Colab_doesn't_work_out_of_the_box.ipynb\" target=\"_parent\"><img src=\"https://colab.research.google.com/assets/colab-badge.svg\" alt=\"Open In Colab\"/></a>"
      ]
    },
    {
      "cell_type": "markdown",
      "metadata": {
        "id": "HtRrVd8fK8lx"
      },
      "source": [
        "# doesn't work out of the box\n",
        "\n",
        "https://pypi.org/project/rasa/\n",
        "\n",
        "https://rasa.com/docs/rasa/jupyter-notebooks#train-a-model"
      ]
    },
    {
      "cell_type": "code",
      "metadata": {
        "colab": {
          "base_uri": "https://localhost:8080/",
          "height": 837
        },
        "id": "nBWWXH3RH3As",
        "outputId": "f21dda47-7061-4750-873b-fd6596c5f4a0"
      },
      "source": [
        "!pip install -U ipython\n",
        "!pip3 install -U pip\n",
        "!pip3 install nest_asyncio"
      ],
      "execution_count": 1,
      "outputs": [
        {
          "output_type": "stream",
          "text": [
            "Collecting ipython\n",
            "\u001b[?25l  Downloading https://files.pythonhosted.org/packages/c0/34/abf879c9c8a282b2d06c880f3791ce91b25de1912bdcfa4a209afebe12f3/ipython-7.24.1-py3-none-any.whl (785kB)\n",
            "\r\u001b[K     |▍                               | 10kB 16.9MB/s eta 0:00:01\r\u001b[K     |▉                               | 20kB 19.5MB/s eta 0:00:01\r\u001b[K     |█▎                              | 30kB 10.5MB/s eta 0:00:01\r\u001b[K     |█▊                              | 40kB 8.5MB/s eta 0:00:01\r\u001b[K     |██                              | 51kB 4.9MB/s eta 0:00:01\r\u001b[K     |██▌                             | 61kB 5.2MB/s eta 0:00:01\r\u001b[K     |███                             | 71kB 5.6MB/s eta 0:00:01\r\u001b[K     |███▍                            | 81kB 6.0MB/s eta 0:00:01\r\u001b[K     |███▊                            | 92kB 6.4MB/s eta 0:00:01\r\u001b[K     |████▏                           | 102kB 5.1MB/s eta 0:00:01\r\u001b[K     |████▋                           | 112kB 5.1MB/s eta 0:00:01\r\u001b[K     |█████                           | 122kB 5.1MB/s eta 0:00:01\r\u001b[K     |█████▍                          | 133kB 5.1MB/s eta 0:00:01\r\u001b[K     |█████▉                          | 143kB 5.1MB/s eta 0:00:01\r\u001b[K     |██████▎                         | 153kB 5.1MB/s eta 0:00:01\r\u001b[K     |██████▊                         | 163kB 5.1MB/s eta 0:00:01\r\u001b[K     |███████                         | 174kB 5.1MB/s eta 0:00:01\r\u001b[K     |███████▌                        | 184kB 5.1MB/s eta 0:00:01\r\u001b[K     |████████                        | 194kB 5.1MB/s eta 0:00:01\r\u001b[K     |████████▍                       | 204kB 5.1MB/s eta 0:00:01\r\u001b[K     |████████▊                       | 215kB 5.1MB/s eta 0:00:01\r\u001b[K     |█████████▏                      | 225kB 5.1MB/s eta 0:00:01\r\u001b[K     |█████████▋                      | 235kB 5.1MB/s eta 0:00:01\r\u001b[K     |██████████                      | 245kB 5.1MB/s eta 0:00:01\r\u001b[K     |██████████▍                     | 256kB 5.1MB/s eta 0:00:01\r\u001b[K     |██████████▉                     | 266kB 5.1MB/s eta 0:00:01\r\u001b[K     |███████████▎                    | 276kB 5.1MB/s eta 0:00:01\r\u001b[K     |███████████▊                    | 286kB 5.1MB/s eta 0:00:01\r\u001b[K     |████████████                    | 296kB 5.1MB/s eta 0:00:01\r\u001b[K     |████████████▌                   | 307kB 5.1MB/s eta 0:00:01\r\u001b[K     |█████████████                   | 317kB 5.1MB/s eta 0:00:01\r\u001b[K     |█████████████▍                  | 327kB 5.1MB/s eta 0:00:01\r\u001b[K     |█████████████▊                  | 337kB 5.1MB/s eta 0:00:01\r\u001b[K     |██████████████▏                 | 348kB 5.1MB/s eta 0:00:01\r\u001b[K     |██████████████▋                 | 358kB 5.1MB/s eta 0:00:01\r\u001b[K     |███████████████                 | 368kB 5.1MB/s eta 0:00:01\r\u001b[K     |███████████████▍                | 378kB 5.1MB/s eta 0:00:01\r\u001b[K     |███████████████▉                | 389kB 5.1MB/s eta 0:00:01\r\u001b[K     |████████████████▎               | 399kB 5.1MB/s eta 0:00:01\r\u001b[K     |████████████████▊               | 409kB 5.1MB/s eta 0:00:01\r\u001b[K     |█████████████████               | 419kB 5.1MB/s eta 0:00:01\r\u001b[K     |█████████████████▌              | 430kB 5.1MB/s eta 0:00:01\r\u001b[K     |██████████████████              | 440kB 5.1MB/s eta 0:00:01\r\u001b[K     |██████████████████▍             | 450kB 5.1MB/s eta 0:00:01\r\u001b[K     |██████████████████▊             | 460kB 5.1MB/s eta 0:00:01\r\u001b[K     |███████████████████▏            | 471kB 5.1MB/s eta 0:00:01\r\u001b[K     |███████████████████▋            | 481kB 5.1MB/s eta 0:00:01\r\u001b[K     |████████████████████            | 491kB 5.1MB/s eta 0:00:01\r\u001b[K     |████████████████████▍           | 501kB 5.1MB/s eta 0:00:01\r\u001b[K     |████████████████████▉           | 512kB 5.1MB/s eta 0:00:01\r\u001b[K     |█████████████████████▎          | 522kB 5.1MB/s eta 0:00:01\r\u001b[K     |█████████████████████▊          | 532kB 5.1MB/s eta 0:00:01\r\u001b[K     |██████████████████████          | 542kB 5.1MB/s eta 0:00:01\r\u001b[K     |██████████████████████▌         | 552kB 5.1MB/s eta 0:00:01\r\u001b[K     |███████████████████████         | 563kB 5.1MB/s eta 0:00:01\r\u001b[K     |███████████████████████▍        | 573kB 5.1MB/s eta 0:00:01\r\u001b[K     |███████████████████████▊        | 583kB 5.1MB/s eta 0:00:01\r\u001b[K     |████████████████████████▏       | 593kB 5.1MB/s eta 0:00:01\r\u001b[K     |████████████████████████▋       | 604kB 5.1MB/s eta 0:00:01\r\u001b[K     |█████████████████████████       | 614kB 5.1MB/s eta 0:00:01\r\u001b[K     |█████████████████████████▍      | 624kB 5.1MB/s eta 0:00:01\r\u001b[K     |█████████████████████████▉      | 634kB 5.1MB/s eta 0:00:01\r\u001b[K     |██████████████████████████▎     | 645kB 5.1MB/s eta 0:00:01\r\u001b[K     |██████████████████████████▊     | 655kB 5.1MB/s eta 0:00:01\r\u001b[K     |███████████████████████████     | 665kB 5.1MB/s eta 0:00:01\r\u001b[K     |███████████████████████████▌    | 675kB 5.1MB/s eta 0:00:01\r\u001b[K     |████████████████████████████    | 686kB 5.1MB/s eta 0:00:01\r\u001b[K     |████████████████████████████▍   | 696kB 5.1MB/s eta 0:00:01\r\u001b[K     |████████████████████████████▊   | 706kB 5.1MB/s eta 0:00:01\r\u001b[K     |█████████████████████████████▏  | 716kB 5.1MB/s eta 0:00:01\r\u001b[K     |█████████████████████████████▋  | 727kB 5.1MB/s eta 0:00:01\r\u001b[K     |██████████████████████████████  | 737kB 5.1MB/s eta 0:00:01\r\u001b[K     |██████████████████████████████▍ | 747kB 5.1MB/s eta 0:00:01\r\u001b[K     |██████████████████████████████▉ | 757kB 5.1MB/s eta 0:00:01\r\u001b[K     |███████████████████████████████▎| 768kB 5.1MB/s eta 0:00:01\r\u001b[K     |███████████████████████████████▊| 778kB 5.1MB/s eta 0:00:01\r\u001b[K     |████████████████████████████████| 788kB 5.1MB/s \n",
            "\u001b[?25hRequirement already satisfied, skipping upgrade: backcall in /usr/local/lib/python3.7/dist-packages (from ipython) (0.2.0)\n",
            "Requirement already satisfied, skipping upgrade: jedi>=0.16 in /usr/local/lib/python3.7/dist-packages (from ipython) (0.18.0)\n",
            "Requirement already satisfied, skipping upgrade: traitlets>=4.2 in /usr/local/lib/python3.7/dist-packages (from ipython) (5.0.5)\n",
            "Requirement already satisfied, skipping upgrade: setuptools>=18.5 in /usr/local/lib/python3.7/dist-packages (from ipython) (57.0.0)\n",
            "Requirement already satisfied, skipping upgrade: matplotlib-inline in /usr/local/lib/python3.7/dist-packages (from ipython) (0.1.2)\n",
            "Requirement already satisfied, skipping upgrade: pickleshare in /usr/local/lib/python3.7/dist-packages (from ipython) (0.7.5)\n",
            "Requirement already satisfied, skipping upgrade: pygments in /usr/local/lib/python3.7/dist-packages (from ipython) (2.6.1)\n",
            "Collecting prompt-toolkit!=3.0.0,!=3.0.1,<3.1.0,>=2.0.0\n",
            "\u001b[?25l  Downloading https://files.pythonhosted.org/packages/eb/e6/4b4ca4fa94462d4560ba2f4e62e62108ab07be2e16a92e594e43b12d3300/prompt_toolkit-3.0.18-py3-none-any.whl (367kB)\n",
            "\u001b[K     |████████████████████████████████| 368kB 15.8MB/s \n",
            "\u001b[?25hRequirement already satisfied, skipping upgrade: pexpect>4.3; sys_platform != \"win32\" in /usr/local/lib/python3.7/dist-packages (from ipython) (4.8.0)\n",
            "Requirement already satisfied, skipping upgrade: decorator in /usr/local/lib/python3.7/dist-packages (from ipython) (4.4.2)\n",
            "Requirement already satisfied, skipping upgrade: parso<0.9.0,>=0.8.0 in /usr/local/lib/python3.7/dist-packages (from jedi>=0.16->ipython) (0.8.2)\n",
            "Requirement already satisfied, skipping upgrade: ipython-genutils in /usr/local/lib/python3.7/dist-packages (from traitlets>=4.2->ipython) (0.2.0)\n",
            "Requirement already satisfied, skipping upgrade: wcwidth in /usr/local/lib/python3.7/dist-packages (from prompt-toolkit!=3.0.0,!=3.0.1,<3.1.0,>=2.0.0->ipython) (0.2.5)\n",
            "Requirement already satisfied, skipping upgrade: ptyprocess>=0.5 in /usr/local/lib/python3.7/dist-packages (from pexpect>4.3; sys_platform != \"win32\"->ipython) (0.7.0)\n",
            "\u001b[31mERROR: jupyter-console 5.2.0 has requirement prompt-toolkit<2.0.0,>=1.0.0, but you'll have prompt-toolkit 3.0.18 which is incompatible.\u001b[0m\n",
            "\u001b[31mERROR: google-colab 1.0.0 has requirement ipython~=5.5.0, but you'll have ipython 7.24.1 which is incompatible.\u001b[0m\n",
            "Installing collected packages: prompt-toolkit, ipython\n",
            "  Found existing installation: prompt-toolkit 1.0.18\n",
            "    Uninstalling prompt-toolkit-1.0.18:\n",
            "      Successfully uninstalled prompt-toolkit-1.0.18\n",
            "  Found existing installation: ipython 5.5.0\n",
            "    Uninstalling ipython-5.5.0:\n",
            "      Successfully uninstalled ipython-5.5.0\n",
            "Successfully installed ipython-7.24.1 prompt-toolkit-3.0.18\n"
          ],
          "name": "stdout"
        },
        {
          "output_type": "display_data",
          "data": {
            "application/vnd.colab-display-data+json": {
              "pip_warning": {
                "packages": [
                  "IPython",
                  "prompt_toolkit"
                ]
              }
            }
          },
          "metadata": {
            "tags": []
          }
        },
        {
          "output_type": "stream",
          "text": [
            "Collecting pip\n",
            "\u001b[?25l  Downloading https://files.pythonhosted.org/packages/cd/82/04e9aaf603fdbaecb4323b9e723f13c92c245f6ab2902195c53987848c78/pip-21.1.2-py3-none-any.whl (1.5MB)\n",
            "\u001b[K     |████████████████████████████████| 1.6MB 6.6MB/s \n",
            "\u001b[?25hInstalling collected packages: pip\n",
            "  Found existing installation: pip 19.3.1\n",
            "    Uninstalling pip-19.3.1:\n",
            "      Successfully uninstalled pip-19.3.1\n",
            "Successfully installed pip-21.1.2\n",
            "Requirement already satisfied: nest_asyncio in /usr/local/lib/python3.7/dist-packages (1.5.1)\n",
            "\u001b[33mWARNING: Running pip as root will break packages and permissions. You should install packages reliably by using venv: https://pip.pypa.io/warnings/venv\u001b[0m\n"
          ],
          "name": "stdout"
        }
      ]
    },
    {
      "cell_type": "code",
      "metadata": {
        "colab": {
          "base_uri": "https://localhost:8080/"
        },
        "id": "ctGbtV6UKqPh",
        "outputId": "7a85ebd6-c85b-4345-c575-8589a39941e8"
      },
      "source": [
        "import nest_asyncio\n",
        "\n",
        "nest_asyncio.apply()\n",
        "print(\"Event loop ready.\")"
      ],
      "execution_count": 1,
      "outputs": [
        {
          "output_type": "stream",
          "text": [
            "Event loop ready.\n"
          ],
          "name": "stdout"
        }
      ]
    },
    {
      "cell_type": "code",
      "metadata": {
        "colab": {
          "base_uri": "https://localhost:8080/",
          "height": 1000
        },
        "id": "kckZmGroICSb",
        "outputId": "a95f6e96-4ffe-4a86-8249-91421783d706"
      },
      "source": [
        "!pip3 install rasa\n"
      ],
      "execution_count": 2,
      "outputs": [
        {
          "output_type": "stream",
          "text": [
            "Collecting rasa\n",
            "  Using cached rasa-2.7.0-py3-none-any.whl (737 kB)\n",
            "Collecting fbmessenger<6.1.0,>=6.0.0\n",
            "  Downloading fbmessenger-6.0.0-py2.py3-none-any.whl (11 kB)\n",
            "Collecting tensorflow-text<2.4,>=2.3\n",
            "  Downloading tensorflow_text-2.3.0-cp37-cp37m-manylinux1_x86_64.whl (2.6 MB)\n",
            "\u001b[K     |████████████████████████████████| 2.6 MB 5.1 MB/s \n",
            "\u001b[?25hCollecting python-engineio!=5.0.0,<6,>=4\n",
            "  Using cached python_engineio-4.2.0-py2.py3-none-any.whl (51 kB)\n",
            "Requirement already satisfied: networkx<2.6,>=2.4 in /usr/local/lib/python3.7/dist-packages (from rasa) (2.5.1)\n",
            "Collecting prompt-toolkit<3.0,>=2.0\n",
            "  Downloading prompt_toolkit-2.0.10-py3-none-any.whl (340 kB)\n",
            "\u001b[K     |████████████████████████████████| 340 kB 45.1 MB/s \n",
            "\u001b[?25hCollecting boto3<2.0,>=1.12\n",
            "  Using cached boto3-1.17.90-py2.py3-none-any.whl (131 kB)\n",
            "Collecting coloredlogs<16,>=10\n",
            "  Downloading coloredlogs-15.0-py2.py3-none-any.whl (45 kB)\n",
            "\u001b[K     |████████████████████████████████| 45 kB 3.8 MB/s \n",
            "\u001b[?25hCollecting numpy<1.19,>=1.16\n",
            "  Downloading numpy-1.18.5-cp37-cp37m-manylinux1_x86_64.whl (20.1 MB)\n",
            "\u001b[K     |████████████████████████████████| 20.1 MB 1.3 MB/s \n",
            "\u001b[?25hCollecting pytz<2022.0,>=2019.1\n",
            "  Downloading pytz-2021.1-py2.py3-none-any.whl (510 kB)\n",
            "\u001b[K     |████████████████████████████████| 510 kB 62.1 MB/s \n",
            "\u001b[?25hCollecting regex<2020.10,>=2020.6\n",
            "  Using cached regex-2020.9.27-cp37-cp37m-manylinux2010_x86_64.whl (662 kB)\n",
            "Requirement already satisfied: async_generator<1.11,>=1.10 in /usr/local/lib/python3.7/dist-packages (from rasa) (1.10)\n",
            "Collecting tensorflow-estimator<2.4,>=2.3\n",
            "  Downloading tensorflow_estimator-2.3.0-py2.py3-none-any.whl (459 kB)\n",
            "\u001b[K     |████████████████████████████████| 459 kB 43.7 MB/s \n",
            "\u001b[?25hCollecting sentry-sdk<1.2.0,>=0.17.0\n",
            "  Downloading sentry_sdk-1.1.0-py2.py3-none-any.whl (131 kB)\n",
            "\u001b[K     |████████████████████████████████| 131 kB 79.1 MB/s \n",
            "\u001b[?25hRequirement already satisfied: oauth2client==4.1.3 in /usr/local/lib/python3.7/dist-packages (from rasa) (4.1.3)\n",
            "Requirement already satisfied: scikit-learn<0.25,>=0.22 in /usr/local/lib/python3.7/dist-packages (from rasa) (0.22.2.post1)\n",
            "Requirement already satisfied: requests<3.0,>=2.23 in /usr/local/lib/python3.7/dist-packages (from rasa) (2.23.0)\n",
            "Collecting colorhash<1.1.0,>=1.0.2\n",
            "  Downloading colorhash-1.0.3-py3-none-any.whl (4.0 kB)\n",
            "Requirement already satisfied: setuptools>=41.0.0 in /usr/local/lib/python3.7/dist-packages (from rasa) (57.0.0)\n",
            "Collecting sklearn-crfsuite<0.4,>=0.3\n",
            "  Downloading sklearn_crfsuite-0.3.6-py2.py3-none-any.whl (12 kB)\n",
            "Collecting rocketchat_API<1.16.0,>=0.6.31\n",
            "  Downloading rocketchat_API-1.15.0-py3-none-any.whl (17 kB)\n",
            "Collecting slackclient<3.0.0,>=2.0.0\n",
            "  Downloading slackclient-2.9.3-py2.py3-none-any.whl (96 kB)\n",
            "\u001b[K     |████████████████████████████████| 96 kB 6.8 MB/s \n",
            "\u001b[?25hCollecting SQLAlchemy<1.4.0,>=1.3.3\n",
            "  Downloading SQLAlchemy-1.3.24-cp37-cp37m-manylinux2010_x86_64.whl (1.3 MB)\n",
            "\u001b[K     |████████████████████████████████| 1.3 MB 48.3 MB/s \n",
            "\u001b[?25hCollecting terminaltables<3.2.0,>=3.1.0\n",
            "  Downloading terminaltables-3.1.0.tar.gz (12 kB)\n",
            "Requirement already satisfied: scipy<2.0.0,>=1.4.1 in /usr/local/lib/python3.7/dist-packages (from rasa) (1.4.1)\n",
            "Requirement already satisfied: python-dateutil<2.9,>=2.8 in /usr/local/lib/python3.7/dist-packages (from rasa) (2.8.1)\n",
            "Collecting pydot<1.5,>=1.4\n",
            "  Using cached pydot-1.4.2-py2.py3-none-any.whl (21 kB)\n",
            "Collecting aiohttp!=3.7.4.post0,<3.8,>=3.6\n",
            "  Downloading aiohttp-3.7.4-cp37-cp37m-manylinux2014_x86_64.whl (1.3 MB)\n",
            "\u001b[K     |████████████████████████████████| 1.3 MB 46.0 MB/s \n",
            "\u001b[?25hCollecting mattermostwrapper<2.3,>=2.2\n",
            "  Using cached mattermostwrapper-2.2.tar.gz (2.5 kB)\n",
            "Collecting ruamel.yaml<0.17.0,>=0.16.5\n",
            "  Downloading ruamel.yaml-0.16.13-py2.py3-none-any.whl (111 kB)\n",
            "\u001b[K     |████████████████████████████████| 111 kB 69.4 MB/s \n",
            "\u001b[?25hCollecting apscheduler<3.8,>=3.6\n",
            "  Using cached APScheduler-3.7.0-py2.py3-none-any.whl (59 kB)\n",
            "Collecting attrs<20.4,>=19.3\n",
            "  Downloading attrs-20.3.0-py2.py3-none-any.whl (49 kB)\n",
            "\u001b[K     |████████████████████████████████| 49 kB 5.9 MB/s \n",
            "\u001b[?25hCollecting rasa-sdk<3.0.0,>=2.7.0\n",
            "  Using cached rasa_sdk-2.7.0-py3-none-any.whl (43 kB)\n",
            "Collecting ujson<5.0,>=1.35\n",
            "  Downloading ujson-4.0.2-cp37-cp37m-manylinux1_x86_64.whl (179 kB)\n",
            "\u001b[K     |████████████████████████████████| 179 kB 53.2 MB/s \n",
            "\u001b[?25hRequirement already satisfied: tqdm<4.60,>=4.31 in /usr/local/lib/python3.7/dist-packages (from rasa) (4.41.1)\n",
            "Collecting twilio<6.51,>=6.26\n",
            "  Downloading twilio-6.50.1.tar.gz (457 kB)\n",
            "\u001b[K     |████████████████████████████████| 457 kB 42.2 MB/s \n",
            "\u001b[?25hCollecting webexteamssdk<1.7.0,>=1.1.1\n",
            "  Downloading webexteamssdk-1.6-py3-none-any.whl (113 kB)\n",
            "\u001b[K     |████████████████████████████████| 113 kB 68.6 MB/s \n",
            "\u001b[?25hCollecting tensorflow<2.4,>=2.3\n",
            "  Downloading tensorflow-2.3.2-cp37-cp37m-manylinux2010_x86_64.whl (320.4 MB)\n",
            "\u001b[K     |████████████████████████████████| 320.4 MB 15 kB/s \n",
            "\u001b[?25hCollecting pykwalify<1.9,>=1.7\n",
            "  Downloading pykwalify-1.8.0-py2.py3-none-any.whl (24 kB)\n",
            "Collecting sanic<21.0.0,>=19.12.2\n",
            "  Using cached sanic-20.12.3-py3-none-any.whl (80 kB)\n",
            "Collecting jsonschema<3.3,>=3.2\n",
            "  Downloading jsonschema-3.2.0-py2.py3-none-any.whl (56 kB)\n",
            "\u001b[K     |████████████████████████████████| 56 kB 4.6 MB/s \n",
            "\u001b[?25hCollecting psycopg2-binary<2.9.0,>=2.8.2\n",
            "  Downloading psycopg2_binary-2.8.6-cp37-cp37m-manylinux1_x86_64.whl (3.0 MB)\n",
            "\u001b[K     |████████████████████████████████| 3.0 MB 51.5 MB/s \n",
            "\u001b[?25hCollecting sanic-jwt<2.0,>=1.3.2\n",
            "  Using cached sanic-jwt-1.6.0.tar.gz (19 kB)\n",
            "Collecting questionary<1.10.0,>=1.5.1\n",
            "  Using cached questionary-1.9.0-py3-none-any.whl (32 kB)\n",
            "Requirement already satisfied: packaging<21.0,>=20.0 in /usr/local/lib/python3.7/dist-packages (from rasa) (20.9)\n",
            "Collecting python-socketio<6,>=4.4\n",
            "  Using cached python_socketio-5.3.0-py2.py3-none-any.whl (53 kB)\n",
            "Collecting PyJWT[crypto]<3.0.0,>=2.0.0\n",
            "  Using cached PyJWT-2.1.0-py3-none-any.whl (16 kB)\n",
            "Collecting pyTelegramBotAPI<4.0.0,>=3.7.3\n",
            "  Downloading pyTelegramBotAPI-3.7.9.tar.gz (90 kB)\n",
            "\u001b[K     |████████████████████████████████| 90 kB 10.2 MB/s \n",
            "\u001b[?25hCollecting kafka-python<3.0,>=1.4\n",
            "  Downloading kafka_python-2.0.2-py2.py3-none-any.whl (246 kB)\n",
            "\u001b[K     |████████████████████████████████| 246 kB 59.8 MB/s \n",
            "\u001b[?25hCollecting tensorflow-addons<0.13,>=0.10\n",
            "  Using cached tensorflow_addons-0.12.1-cp37-cp37m-manylinux2010_x86_64.whl (703 kB)\n",
            "Collecting tensorflow_hub<0.11,>=0.10\n",
            "  Downloading tensorflow_hub-0.10.0-py2.py3-none-any.whl (107 kB)\n",
            "\u001b[K     |████████████████████████████████| 107 kB 65.8 MB/s \n",
            "\u001b[?25hRequirement already satisfied: joblib<1.1.0,>=0.15.1 in /usr/local/lib/python3.7/dist-packages (from rasa) (1.0.1)\n",
            "Collecting jsonpickle<2.1,>=1.3\n",
            "  Downloading jsonpickle-2.0.0-py2.py3-none-any.whl (37 kB)\n",
            "Requirement already satisfied: cloudpickle<1.7,>=1.2 in /usr/local/lib/python3.7/dist-packages (from rasa) (1.3.0)\n",
            "Requirement already satisfied: matplotlib<3.4,>=3.1 in /usr/local/lib/python3.7/dist-packages (from rasa) (3.2.2)\n",
            "Collecting aio-pika<7.0.0,>=6.7.1\n",
            "  Downloading aio_pika-6.8.0-py3-none-any.whl (42 kB)\n",
            "\u001b[K     |████████████████████████████████| 42 kB 903 kB/s \n",
            "\u001b[?25hCollecting tensorflow-probability<0.12,>=0.11\n",
            "  Downloading tensorflow_probability-0.11.1-py2.py3-none-any.whl (4.3 MB)\n",
            "\u001b[K     |████████████████████████████████| 4.3 MB 32.4 MB/s \n",
            "\u001b[?25hRequirement already satisfied: absl-py<0.13,>=0.9 in /usr/local/lib/python3.7/dist-packages (from rasa) (0.12.0)\n",
            "Collecting colorclass<2.3,>=2.2\n",
            "  Downloading colorclass-2.2.0.tar.gz (17 kB)\n",
            "Collecting redis<4.0,>=3.4\n",
            "  Using cached redis-3.5.3-py2.py3-none-any.whl (72 kB)\n",
            "Collecting sanic-cors<0.11.0,>=0.10.0b1\n",
            "  Downloading Sanic_Cors-0.10.0.post3-py2.py3-none-any.whl (17 kB)\n",
            "Collecting pymongo[srv,tls]<3.11,>=3.8\n",
            "  Downloading pymongo-3.10.1-cp37-cp37m-manylinux2014_x86_64.whl (462 kB)\n",
            "\u001b[K     |████████████████████████████████| 462 kB 47.0 MB/s \n",
            "\u001b[?25hRequirement already satisfied: httplib2>=0.9.1 in /usr/local/lib/python3.7/dist-packages (from oauth2client==4.1.3->rasa) (0.17.4)\n",
            "Requirement already satisfied: rsa>=3.1.4 in /usr/local/lib/python3.7/dist-packages (from oauth2client==4.1.3->rasa) (4.7.2)\n",
            "Requirement already satisfied: pyasn1-modules>=0.0.5 in /usr/local/lib/python3.7/dist-packages (from oauth2client==4.1.3->rasa) (0.2.8)\n",
            "Requirement already satisfied: six>=1.6.1 in /usr/local/lib/python3.7/dist-packages (from oauth2client==4.1.3->rasa) (1.15.0)\n",
            "Requirement already satisfied: pyasn1>=0.1.7 in /usr/local/lib/python3.7/dist-packages (from oauth2client==4.1.3->rasa) (0.4.8)\n",
            "Collecting yarl\n",
            "  Downloading yarl-1.6.3-cp37-cp37m-manylinux2014_x86_64.whl (294 kB)\n",
            "\u001b[K     |████████████████████████████████| 294 kB 62.9 MB/s \n",
            "\u001b[?25hCollecting aiormq<4,>=3.2.3\n",
            "  Downloading aiormq-3.3.1-py3-none-any.whl (28 kB)\n",
            "Collecting multidict<7.0,>=4.5\n",
            "  Downloading multidict-5.1.0-cp37-cp37m-manylinux2014_x86_64.whl (142 kB)\n",
            "\u001b[K     |████████████████████████████████| 142 kB 60.4 MB/s \n",
            "\u001b[?25hRequirement already satisfied: typing-extensions>=3.6.5 in /usr/local/lib/python3.7/dist-packages (from aiohttp!=3.7.4.post0,<3.8,>=3.6->rasa) (3.7.4.3)\n",
            "Requirement already satisfied: chardet<4.0,>=2.0 in /usr/local/lib/python3.7/dist-packages (from aiohttp!=3.7.4.post0,<3.8,>=3.6->rasa) (3.0.4)\n",
            "Collecting async-timeout<4.0,>=3.0\n",
            "  Downloading async_timeout-3.0.1-py3-none-any.whl (8.2 kB)\n",
            "Collecting pamqp==2.3.0\n",
            "  Downloading pamqp-2.3.0-py2.py3-none-any.whl (28 kB)\n",
            "Collecting tzlocal~=2.0\n",
            "  Downloading tzlocal-2.1-py2.py3-none-any.whl (16 kB)\n",
            "Collecting s3transfer<0.5.0,>=0.4.0\n",
            "  Downloading s3transfer-0.4.2-py2.py3-none-any.whl (79 kB)\n",
            "\u001b[K     |████████████████████████████████| 79 kB 8.5 MB/s \n",
            "\u001b[?25hCollecting botocore<1.21.0,>=1.20.90\n",
            "  Downloading botocore-1.20.90-py2.py3-none-any.whl (7.6 MB)\n",
            "\u001b[K     |████████████████████████████████| 7.6 MB 29.7 MB/s \n",
            "\u001b[?25hCollecting jmespath<1.0.0,>=0.7.1\n",
            "  Downloading jmespath-0.10.0-py2.py3-none-any.whl (24 kB)\n",
            "Collecting urllib3<1.27,>=1.25.4\n",
            "  Downloading urllib3-1.26.5-py2.py3-none-any.whl (138 kB)\n",
            "\u001b[K     |████████████████████████████████| 138 kB 64.5 MB/s \n",
            "\u001b[?25hCollecting humanfriendly>=9.1\n",
            "  Downloading humanfriendly-9.1-py2.py3-none-any.whl (86 kB)\n",
            "\u001b[K     |████████████████████████████████| 86 kB 6.4 MB/s \n",
            "\u001b[?25hRequirement already satisfied: importlib-metadata in /usr/local/lib/python3.7/dist-packages (from jsonpickle<2.1,>=1.3->rasa) (4.0.1)\n",
            "Requirement already satisfied: pyrsistent>=0.14.0 in /usr/local/lib/python3.7/dist-packages (from jsonschema<3.3,>=3.2->rasa) (0.17.3)\n",
            "Requirement already satisfied: pyparsing!=2.0.4,!=2.1.2,!=2.1.6,>=2.0.1 in /usr/local/lib/python3.7/dist-packages (from matplotlib<3.4,>=3.1->rasa) (2.4.7)\n",
            "Requirement already satisfied: kiwisolver>=1.0.1 in /usr/local/lib/python3.7/dist-packages (from matplotlib<3.4,>=3.1->rasa) (1.3.1)\n",
            "Requirement already satisfied: cycler>=0.10 in /usr/local/lib/python3.7/dist-packages (from matplotlib<3.4,>=3.1->rasa) (0.10.0)\n",
            "Requirement already satisfied: decorator<5,>=4.3 in /usr/local/lib/python3.7/dist-packages (from networkx<2.6,>=2.4->rasa) (4.4.2)\n",
            "Requirement already satisfied: wcwidth in /usr/local/lib/python3.7/dist-packages (from prompt-toolkit<3.0,>=2.0->rasa) (0.2.5)\n",
            "Collecting cryptography<4.0.0,>=3.3.1\n",
            "  Downloading cryptography-3.4.7-cp36-abi3-manylinux2014_x86_64.whl (3.2 MB)\n",
            "\u001b[K     |████████████████████████████████| 3.2 MB 30.9 MB/s \n",
            "\u001b[?25hRequirement already satisfied: cffi>=1.12 in /usr/local/lib/python3.7/dist-packages (from cryptography<4.0.0,>=3.3.1->PyJWT[crypto]<3.0.0,>=2.0.0->rasa) (1.14.5)\n",
            "Requirement already satisfied: pycparser in /usr/local/lib/python3.7/dist-packages (from cffi>=1.12->cryptography<4.0.0,>=3.3.1->PyJWT[crypto]<3.0.0,>=2.0.0->rasa) (2.20)\n",
            "Requirement already satisfied: docopt>=0.6.2 in /usr/local/lib/python3.7/dist-packages (from pykwalify<1.9,>=1.7->rasa) (0.6.2)\n",
            "Collecting dnspython<2.0.0,>=1.16.0\n",
            "  Downloading dnspython-1.16.0-py2.py3-none-any.whl (188 kB)\n",
            "\u001b[K     |████████████████████████████████| 188 kB 77.6 MB/s \n",
            "\u001b[?25hCollecting bidict>=0.21.0\n",
            "  Downloading bidict-0.21.2-py2.py3-none-any.whl (37 kB)\n",
            "Collecting uvloop<0.15.0\n",
            "  Downloading uvloop-0.14.0-cp37-cp37m-manylinux2010_x86_64.whl (3.8 MB)\n",
            "\u001b[K     |████████████████████████████████| 3.8 MB 29.5 MB/s \n",
            "\u001b[?25hRequirement already satisfied: certifi>=2017.4.17 in /usr/local/lib/python3.7/dist-packages (from requests<3.0,>=2.23->rasa) (2020.12.5)\n",
            "Requirement already satisfied: idna<3,>=2.5 in /usr/local/lib/python3.7/dist-packages (from requests<3.0,>=2.23->rasa) (2.10)\n",
            "Collecting urllib3<1.27,>=1.25.4\n",
            "  Downloading urllib3-1.25.11-py2.py3-none-any.whl (127 kB)\n",
            "\u001b[K     |████████████████████████████████| 127 kB 60.0 MB/s \n",
            "\u001b[?25hCollecting ruamel.yaml.clib>=0.1.2\n",
            "  Downloading ruamel.yaml.clib-0.2.2-cp37-cp37m-manylinux1_x86_64.whl (547 kB)\n",
            "\u001b[K     |████████████████████████████████| 547 kB 62.9 MB/s \n",
            "\u001b[?25hCollecting websockets<9.0,>=8.1\n",
            "  Downloading websockets-8.1-cp37-cp37m-manylinux2010_x86_64.whl (79 kB)\n",
            "\u001b[K     |████████████████████████████████| 79 kB 9.6 MB/s \n",
            "\u001b[?25hCollecting httptools>=0.0.10\n",
            "  Downloading httptools-0.2.0-cp37-cp37m-manylinux1_x86_64.whl (344 kB)\n",
            "\u001b[K     |████████████████████████████████| 344 kB 63.0 MB/s \n",
            "\u001b[?25hCollecting httpx==0.15.4\n",
            "  Downloading httpx-0.15.4-py3-none-any.whl (65 kB)\n",
            "\u001b[K     |████████████████████████████████| 65 kB 3.6 MB/s \n",
            "\u001b[?25hCollecting aiofiles>=0.6.0\n",
            "  Downloading aiofiles-0.7.0-py3-none-any.whl (13 kB)\n",
            "Collecting sniffio\n",
            "  Downloading sniffio-1.2.0-py3-none-any.whl (10 kB)\n",
            "Collecting httpcore==0.11.*\n",
            "  Downloading httpcore-0.11.1-py3-none-any.whl (52 kB)\n",
            "\u001b[K     |████████████████████████████████| 52 kB 1.4 MB/s \n",
            "\u001b[?25hCollecting rfc3986[idna2008]<2,>=1.3\n",
            "  Downloading rfc3986-1.5.0-py2.py3-none-any.whl (31 kB)\n",
            "Collecting h11<0.10,>=0.8\n",
            "  Downloading h11-0.9.0-py2.py3-none-any.whl (53 kB)\n",
            "\u001b[K     |████████████████████████████████| 53 kB 2.3 MB/s \n",
            "\u001b[?25hCollecting sanic-plugins-framework>=0.9.0\n",
            "  Downloading Sanic_Plugins_Framework-0.9.5-py2.py3-none-any.whl (23 kB)\n",
            "Collecting sanic-jwt<2.0,>=1.3.2\n",
            "  Downloading sanic-jwt-1.5.0.tar.gz (19 kB)\n",
            "Requirement already satisfied: tabulate in /usr/local/lib/python3.7/dist-packages (from sklearn-crfsuite<0.4,>=0.3->rasa) (0.8.9)\n",
            "Collecting python-crfsuite>=0.8.3\n",
            "  Downloading python_crfsuite-0.9.7-cp37-cp37m-manylinux1_x86_64.whl (743 kB)\n",
            "\u001b[K     |████████████████████████████████| 743 kB 41.3 MB/s \n",
            "\u001b[?25hRequirement already satisfied: protobuf>=3.9.2 in /usr/local/lib/python3.7/dist-packages (from tensorflow<2.4,>=2.3->rasa) (3.12.4)\n",
            "Requirement already satisfied: astunparse==1.6.3 in /usr/local/lib/python3.7/dist-packages (from tensorflow<2.4,>=2.3->rasa) (1.6.3)\n",
            "Requirement already satisfied: tensorboard<3,>=2.3.0 in /usr/local/lib/python3.7/dist-packages (from tensorflow<2.4,>=2.3->rasa) (2.5.0)\n",
            "Collecting gast==0.3.3\n",
            "  Downloading gast-0.3.3-py2.py3-none-any.whl (9.7 kB)\n",
            "Requirement already satisfied: keras-preprocessing<1.2,>=1.1.1 in /usr/local/lib/python3.7/dist-packages (from tensorflow<2.4,>=2.3->rasa) (1.1.2)\n",
            "Collecting h5py<2.11.0,>=2.10.0\n",
            "  Downloading h5py-2.10.0-cp37-cp37m-manylinux1_x86_64.whl (2.9 MB)\n",
            "\u001b[K     |████████████████████████████████| 2.9 MB 25.2 MB/s \n",
            "\u001b[?25hRequirement already satisfied: termcolor>=1.1.0 in /usr/local/lib/python3.7/dist-packages (from tensorflow<2.4,>=2.3->rasa) (1.1.0)\n",
            "Requirement already satisfied: wrapt>=1.11.1 in /usr/local/lib/python3.7/dist-packages (from tensorflow<2.4,>=2.3->rasa) (1.12.1)\n",
            "Requirement already satisfied: wheel>=0.26 in /usr/local/lib/python3.7/dist-packages (from tensorflow<2.4,>=2.3->rasa) (0.36.2)\n",
            "Requirement already satisfied: grpcio>=1.8.6 in /usr/local/lib/python3.7/dist-packages (from tensorflow<2.4,>=2.3->rasa) (1.34.1)\n",
            "Requirement already satisfied: google-pasta>=0.1.8 in /usr/local/lib/python3.7/dist-packages (from tensorflow<2.4,>=2.3->rasa) (0.2.0)\n",
            "Requirement already satisfied: opt-einsum>=2.3.2 in /usr/local/lib/python3.7/dist-packages (from tensorflow<2.4,>=2.3->rasa) (3.3.0)\n",
            "Requirement already satisfied: google-auth<2,>=1.6.3 in /usr/local/lib/python3.7/dist-packages (from tensorboard<3,>=2.3.0->tensorflow<2.4,>=2.3->rasa) (1.30.0)\n",
            "Requirement already satisfied: tensorboard-data-server<0.7.0,>=0.6.0 in /usr/local/lib/python3.7/dist-packages (from tensorboard<3,>=2.3.0->tensorflow<2.4,>=2.3->rasa) (0.6.1)\n",
            "Requirement already satisfied: werkzeug>=0.11.15 in /usr/local/lib/python3.7/dist-packages (from tensorboard<3,>=2.3.0->tensorflow<2.4,>=2.3->rasa) (1.0.1)\n",
            "Requirement already satisfied: google-auth-oauthlib<0.5,>=0.4.1 in /usr/local/lib/python3.7/dist-packages (from tensorboard<3,>=2.3.0->tensorflow<2.4,>=2.3->rasa) (0.4.4)\n",
            "Requirement already satisfied: tensorboard-plugin-wit>=1.6.0 in /usr/local/lib/python3.7/dist-packages (from tensorboard<3,>=2.3.0->tensorflow<2.4,>=2.3->rasa) (1.8.0)\n",
            "Requirement already satisfied: markdown>=2.6.8 in /usr/local/lib/python3.7/dist-packages (from tensorboard<3,>=2.3.0->tensorflow<2.4,>=2.3->rasa) (3.3.4)\n",
            "Requirement already satisfied: cachetools<5.0,>=2.0.0 in /usr/local/lib/python3.7/dist-packages (from google-auth<2,>=1.6.3->tensorboard<3,>=2.3.0->tensorflow<2.4,>=2.3->rasa) (4.2.2)\n",
            "Requirement already satisfied: requests-oauthlib>=0.7.0 in /usr/local/lib/python3.7/dist-packages (from google-auth-oauthlib<0.5,>=0.4.1->tensorboard<3,>=2.3.0->tensorflow<2.4,>=2.3->rasa) (1.3.0)\n",
            "Requirement already satisfied: oauthlib>=3.0.0 in /usr/local/lib/python3.7/dist-packages (from requests-oauthlib>=0.7.0->google-auth-oauthlib<0.5,>=0.4.1->tensorboard<3,>=2.3.0->tensorflow<2.4,>=2.3->rasa) (3.1.0)\n",
            "Requirement already satisfied: typeguard>=2.7 in /usr/local/lib/python3.7/dist-packages (from tensorflow-addons<0.13,>=0.10->rasa) (2.7.1)\n",
            "Requirement already satisfied: dm-tree in /usr/local/lib/python3.7/dist-packages (from tensorflow-probability<0.12,>=0.11->rasa) (0.1.6)\n",
            "Requirement already satisfied: future in /usr/local/lib/python3.7/dist-packages (from webexteamssdk<1.7.0,>=1.1.1->rasa) (0.16.0)\n",
            "Collecting requests-toolbelt\n",
            "  Downloading requests_toolbelt-0.9.1-py2.py3-none-any.whl (54 kB)\n",
            "\u001b[K     |████████████████████████████████| 54 kB 3.1 MB/s \n",
            "\u001b[?25hRequirement already satisfied: zipp>=0.5 in /usr/local/lib/python3.7/dist-packages (from importlib-metadata->jsonpickle<2.1,>=1.3->rasa) (3.4.1)\n",
            "Building wheels for collected packages: colorclass, mattermostwrapper, pyTelegramBotAPI, sanic-jwt, terminaltables, twilio\n",
            "  Building wheel for colorclass (setup.py) ... \u001b[?25l\u001b[?25hdone\n",
            "  Created wheel for colorclass: filename=colorclass-2.2.0-py3-none-any.whl size=19394 sha256=a822951976f4c88348da1a8f3ebb536eef436f8dcf74773ce43bd056c3eb60af\n",
            "  Stored in directory: /root/.cache/pip/wheels/fe/96/67/750617a6039bb687b993830c5852beba03d777e2d5b0b06938\n",
            "  Building wheel for mattermostwrapper (setup.py) ... \u001b[?25l\u001b[?25hdone\n",
            "  Created wheel for mattermostwrapper: filename=mattermostwrapper-2.2-py3-none-any.whl size=2464 sha256=9f9b0cb36dbecf6055d80f572f5a68254093d6a7d6a664f87fc0e2c1d749483b\n",
            "  Stored in directory: /root/.cache/pip/wheels/b9/70/77/6c3f3c9a6f096f765d0767b21e73598d66c3b79cb7b09b62ad\n",
            "  Building wheel for pyTelegramBotAPI (setup.py) ... \u001b[?25l\u001b[?25hdone\n",
            "  Created wheel for pyTelegramBotAPI: filename=pyTelegramBotAPI-3.7.9-py3-none-any.whl size=67915 sha256=07c037cb7ec732746934b5c33fb55eb4f6759dbc6a46cf4f3ad0dffe2331229b\n",
            "  Stored in directory: /root/.cache/pip/wheels/1d/5c/2e/7e9e2c9c799f78f27508accfe91687e3407519542921958bf3\n",
            "  Building wheel for sanic-jwt (setup.py) ... \u001b[?25l\u001b[?25hdone\n",
            "  Created wheel for sanic-jwt: filename=sanic_jwt-1.5.0-py3-none-any.whl size=21944 sha256=a242f757751ea727fde747a21e4381bb27f0af3d91e02a242fabc8dc11cd2f2b\n",
            "  Stored in directory: /root/.cache/pip/wheels/e9/52/7f/3c1087942fe6a5e8267671f589221066c51e4d16dfc3187333\n",
            "  Building wheel for terminaltables (setup.py) ... \u001b[?25l\u001b[?25hdone\n",
            "  Created wheel for terminaltables: filename=terminaltables-3.1.0-py3-none-any.whl size=15355 sha256=740121cbe7602d5bf90dd7e38cf53da7be24eb30141a68fe1a4d6ebe7a974d19\n",
            "  Stored in directory: /root/.cache/pip/wheels/ba/ad/c8/2d98360791161cd3db6daf6b5e730f34021fc9367d5879f497\n",
            "  Building wheel for twilio (setup.py) ... \u001b[?25l\u001b[?25hdone\n",
            "  Created wheel for twilio: filename=twilio-6.50.1-py2.py3-none-any.whl size=1208699 sha256=cd6dec00aff454755ef46903244163cc432f5b0d197574c1d7491678522be61c\n",
            "  Stored in directory: /root/.cache/pip/wheels/12/35/de/537f7f674cf07861353c8e48809ccab2f657d55c8cc2d2699c\n",
            "Successfully built colorclass mattermostwrapper pyTelegramBotAPI sanic-jwt terminaltables twilio\n",
            "Installing collected packages: urllib3, sniffio, rfc3986, h11, httpcore, websockets, uvloop, ujson, multidict, httpx, httptools, aiofiles, sanic, numpy, jmespath, yarl, tensorflow-estimator, sanic-plugins-framework, ruamel.yaml.clib, pytz, pamqp, humanfriendly, h5py, gast, botocore, attrs, async-timeout, tzlocal, tensorflow, sanic-cors, s3transfer, ruamel.yaml, requests-toolbelt, python-engineio, python-crfsuite, pymongo, PyJWT, prompt-toolkit, dnspython, cryptography, coloredlogs, bidict, aiormq, aiohttp, webexteamssdk, twilio, terminaltables, tensorflow-text, tensorflow-probability, tensorflow-hub, tensorflow-addons, SQLAlchemy, slackclient, sklearn-crfsuite, sentry-sdk, sanic-jwt, rocketchat-API, regex, redis, rasa-sdk, questionary, python-socketio, pyTelegramBotAPI, pykwalify, pydot, psycopg2-binary, mattermostwrapper, kafka-python, jsonschema, jsonpickle, fbmessenger, colorhash, colorclass, boto3, apscheduler, aio-pika, rasa\n",
            "  Attempting uninstall: urllib3\n",
            "    Found existing installation: urllib3 1.24.3\n",
            "    Uninstalling urllib3-1.24.3:\n",
            "      Successfully uninstalled urllib3-1.24.3\n",
            "  Attempting uninstall: numpy\n",
            "    Found existing installation: numpy 1.19.5\n",
            "    Uninstalling numpy-1.19.5:\n",
            "      Successfully uninstalled numpy-1.19.5\n",
            "  Attempting uninstall: tensorflow-estimator\n",
            "    Found existing installation: tensorflow-estimator 2.5.0\n",
            "    Uninstalling tensorflow-estimator-2.5.0:\n",
            "      Successfully uninstalled tensorflow-estimator-2.5.0\n",
            "  Attempting uninstall: pytz\n",
            "    Found existing installation: pytz 2018.9\n",
            "    Uninstalling pytz-2018.9:\n",
            "      Successfully uninstalled pytz-2018.9\n",
            "  Attempting uninstall: h5py\n",
            "    Found existing installation: h5py 3.1.0\n",
            "    Uninstalling h5py-3.1.0:\n",
            "      Successfully uninstalled h5py-3.1.0\n",
            "  Attempting uninstall: gast\n",
            "    Found existing installation: gast 0.4.0\n",
            "    Uninstalling gast-0.4.0:\n",
            "      Successfully uninstalled gast-0.4.0\n",
            "  Attempting uninstall: attrs\n",
            "    Found existing installation: attrs 21.2.0\n",
            "    Uninstalling attrs-21.2.0:\n",
            "      Successfully uninstalled attrs-21.2.0\n",
            "  Attempting uninstall: tzlocal\n",
            "    Found existing installation: tzlocal 1.5.1\n",
            "    Uninstalling tzlocal-1.5.1:\n",
            "      Successfully uninstalled tzlocal-1.5.1\n",
            "  Attempting uninstall: tensorflow\n",
            "    Found existing installation: tensorflow 2.5.0\n",
            "    Uninstalling tensorflow-2.5.0:\n",
            "      Successfully uninstalled tensorflow-2.5.0\n",
            "  Attempting uninstall: pymongo\n",
            "    Found existing installation: pymongo 3.11.4\n",
            "    Uninstalling pymongo-3.11.4:\n",
            "      Successfully uninstalled pymongo-3.11.4\n",
            "  Attempting uninstall: prompt-toolkit\n",
            "    Found existing installation: prompt-toolkit 3.0.18\n",
            "    Uninstalling prompt-toolkit-3.0.18:\n",
            "      Successfully uninstalled prompt-toolkit-3.0.18\n",
            "  Attempting uninstall: tensorflow-probability\n",
            "    Found existing installation: tensorflow-probability 0.12.1\n",
            "    Uninstalling tensorflow-probability-0.12.1:\n",
            "      Successfully uninstalled tensorflow-probability-0.12.1\n",
            "  Attempting uninstall: tensorflow-hub\n",
            "    Found existing installation: tensorflow-hub 0.12.0\n",
            "    Uninstalling tensorflow-hub-0.12.0:\n",
            "      Successfully uninstalled tensorflow-hub-0.12.0\n",
            "  Attempting uninstall: SQLAlchemy\n",
            "    Found existing installation: SQLAlchemy 1.4.15\n",
            "    Uninstalling SQLAlchemy-1.4.15:\n",
            "      Successfully uninstalled SQLAlchemy-1.4.15\n",
            "  Attempting uninstall: regex\n",
            "    Found existing installation: regex 2019.12.20\n",
            "    Uninstalling regex-2019.12.20:\n",
            "      Successfully uninstalled regex-2019.12.20\n",
            "  Attempting uninstall: pydot\n",
            "    Found existing installation: pydot 1.3.0\n",
            "    Uninstalling pydot-1.3.0:\n",
            "      Successfully uninstalled pydot-1.3.0\n",
            "  Attempting uninstall: jsonschema\n",
            "    Found existing installation: jsonschema 2.6.0\n",
            "    Uninstalling jsonschema-2.6.0:\n",
            "      Successfully uninstalled jsonschema-2.6.0\n",
            "\u001b[31mERROR: pip's dependency resolver does not currently take into account all the packages that are installed. This behaviour is the source of the following dependency conflicts.\n",
            "nbclient 0.5.3 requires jupyter-client>=6.1.5, but you have jupyter-client 5.3.5 which is incompatible.\n",
            "jupyter-console 5.2.0 requires prompt-toolkit<2.0.0,>=1.0.0, but you have prompt-toolkit 2.0.10 which is incompatible.\n",
            "google-colab 1.0.0 requires ipython~=5.5.0, but you have ipython 7.24.1 which is incompatible.\n",
            "datascience 0.10.6 requires folium==0.2.1, but you have folium 0.8.3 which is incompatible.\n",
            "albumentations 0.1.12 requires imgaug<0.2.7,>=0.2.5, but you have imgaug 0.2.9 which is incompatible.\u001b[0m\n",
            "Successfully installed PyJWT-2.1.0 SQLAlchemy-1.3.24 aio-pika-6.8.0 aiofiles-0.7.0 aiohttp-3.7.4 aiormq-3.3.1 apscheduler-3.7.0 async-timeout-3.0.1 attrs-20.3.0 bidict-0.21.2 boto3-1.17.90 botocore-1.20.90 colorclass-2.2.0 coloredlogs-15.0 colorhash-1.0.3 cryptography-3.4.7 dnspython-1.16.0 fbmessenger-6.0.0 gast-0.3.3 h11-0.9.0 h5py-2.10.0 httpcore-0.11.1 httptools-0.2.0 httpx-0.15.4 humanfriendly-9.1 jmespath-0.10.0 jsonpickle-2.0.0 jsonschema-3.2.0 kafka-python-2.0.2 mattermostwrapper-2.2 multidict-5.1.0 numpy-1.18.5 pamqp-2.3.0 prompt-toolkit-2.0.10 psycopg2-binary-2.8.6 pyTelegramBotAPI-3.7.9 pydot-1.4.2 pykwalify-1.8.0 pymongo-3.10.1 python-crfsuite-0.9.7 python-engineio-4.2.0 python-socketio-5.3.0 pytz-2021.1 questionary-1.9.0 rasa-2.7.0 rasa-sdk-2.7.0 redis-3.5.3 regex-2020.9.27 requests-toolbelt-0.9.1 rfc3986-1.5.0 rocketchat-API-1.15.0 ruamel.yaml-0.16.13 ruamel.yaml.clib-0.2.2 s3transfer-0.4.2 sanic-20.12.3 sanic-cors-0.10.0.post3 sanic-jwt-1.5.0 sanic-plugins-framework-0.9.5 sentry-sdk-1.1.0 sklearn-crfsuite-0.3.6 slackclient-2.9.3 sniffio-1.2.0 tensorflow-2.3.2 tensorflow-addons-0.12.1 tensorflow-estimator-2.3.0 tensorflow-hub-0.10.0 tensorflow-probability-0.11.1 tensorflow-text-2.3.0 terminaltables-3.1.0 twilio-6.50.1 tzlocal-2.1 ujson-4.0.2 urllib3-1.25.11 uvloop-0.14.0 webexteamssdk-1.6 websockets-8.1 yarl-1.6.3\n",
            "\u001b[33mWARNING: Running pip as root will break packages and permissions. You should install packages reliably by using venv: https://pip.pypa.io/warnings/venv\u001b[0m\n"
          ],
          "name": "stdout"
        },
        {
          "output_type": "display_data",
          "data": {
            "application/vnd.colab-display-data+json": {
              "pip_warning": {
                "packages": [
                  "numpy",
                  "prompt_toolkit",
                  "pytz"
                ]
              }
            }
          },
          "metadata": {
            "tags": []
          }
        }
      ]
    },
    {
      "cell_type": "code",
      "metadata": {
        "colab": {
          "base_uri": "https://localhost:8080/"
        },
        "id": "Ci-VnOHENBxp",
        "outputId": "a4bfffc0-d1af-48d8-db69-165a19d0c68f"
      },
      "source": [
        "!rasa --version\n"
      ],
      "execution_count": 3,
      "outputs": [
        {
          "output_type": "stream",
          "text": [
            "Rasa Version      :         2.7.0\n",
            "Minimum Compatible Version: 2.6.0\n",
            "Rasa SDK Version  :         2.7.0\n",
            "Rasa X Version    :         None\n",
            "Python Version    :         3.7.10\n",
            "Operating System  :         Linux-5.4.109+-x86_64-with-Ubuntu-18.04-bionic\n",
            "Python Path       :         /usr/bin/python3\n"
          ],
          "name": "stdout"
        }
      ]
    },
    {
      "cell_type": "code",
      "metadata": {
        "id": "BVmyTEmOJoYW",
        "colab": {
          "base_uri": "https://localhost:8080/"
        },
        "outputId": "6fca3dcd-870f-4567-baa0-d00ebbf0c5b8"
      },
      "source": [
        "from rasa.cli.scaffold import create_initial_project\n",
        "import os\n",
        "\n",
        "project = \"test-project\"\n",
        "create_initial_project(project)\n",
        "\n",
        "# move into project directory and show files\n",
        "os.chdir(project)\n",
        "print(os.listdir(\".\"))"
      ],
      "execution_count": 4,
      "outputs": [
        {
          "output_type": "stream",
          "text": [
            "['domain.yml', 'data', 'config.yml', 'actions', 'credentials.yml', 'tests', 'endpoints.yml']\n"
          ],
          "name": "stdout"
        }
      ]
    },
    {
      "cell_type": "code",
      "metadata": {
        "colab": {
          "base_uri": "https://localhost:8080/"
        },
        "id": "4fNRiqRgJiJl",
        "outputId": "5a0c1fa6-9b15-4143-8ac7-d9d9ba17a880"
      },
      "source": [
        "!rasa init\n"
      ],
      "execution_count": 5,
      "outputs": [
        {
          "output_type": "stream",
          "text": [
            "\u001b(0lqqqqqqqqqqqqqqqqqqqqqqqqqqqqqqqqqqqqqqqqqqqqqqqqqqqqqqqqqqqqqqqqqqqqqqqqqqqqqqqqk\u001b(B\n",
            "\u001b(0x\u001b(B Rasa Open Source reports anonymous usage telemetry to help improve the product \u001b(0x\u001b(B\n",
            "\u001b(0x\u001b(B for all its users.                                                             \u001b(0x\u001b(B\n",
            "\u001b(0x\u001b(B                                                                                \u001b(0x\u001b(B\n",
            "\u001b(0x\u001b(B If you'd like to opt-out, you can use `rasa telemetry disable`.                \u001b(0x\u001b(B\n",
            "\u001b(0x\u001b(B To learn more, check out https://rasa.com/docs/rasa/telemetry/telemetry.       \u001b(0x\u001b(B\n",
            "\u001b(0mqqqqqqqqqqqqqqqqqqqqqqqqqqqqqqqqqqqqqqqqqqqqqqqqqqqqqqqqqqqqqqqqqqqqqqqqqqqqqqqqj\u001b(B\n",
            "\u001b[92mWelcome to Rasa! 🤖\n",
            "\u001b[0m\n",
            "To get started quickly, an initial project will be created.\n",
            "If you need some help, check out the documentation at https://rasa.com/docs/rasa.\n",
            "Now let's start! 👇🏽\n",
            "\n",
            "\u001b[79Ct\u001b[0m\n",
            "\u001b[5C\u001b[?7h\u001b[0m\u001b[?12l\u001b[?25h\u001b[5D\u001b[A\u001b[J\u001b[0m\u001b[?7h\u001b[?2004l\u001b[?1lWARNING: your terminal doesn't support cursor position requests (CPR).\n",
            "\u001b[79Ct\u001b[0m\n",
            "\u001b[5C\u001b[?7h\u001b[0m\u001b[?12l\u001b[?25h\n",
            "Cancelled by user\n",
            "\n",
            "\u001b[92mOk. You can continue setting up by running 'rasa init' 🙋🏽‍♀️\u001b[0m\n",
            "Error in atexit._run_exitfuncs:\n",
            "Traceback (most recent call last):\n",
            "  File \"/usr/local/lib/python3.7/dist-packages/sentry_sdk/integrations/atexit.py\", line 62, in _shutdown\n",
            "    client.close(callback=integration.callback)\n",
            "  File \"/usr/local/lib/python3.7/dist-packages/sentry_sdk/client.py\", line 375, in close\n",
            "    self.flush(timeout=timeout, callback=callback)\n",
            "  File \"/usr/local/lib/python3.7/dist-packages/sentry_sdk/client.py\", line 397, in flush\n",
            "    self.transport.flush(timeout=timeout, callback=callback)\n",
            "  File \"/usr/local/lib/python3.7/dist-packages/sentry_sdk/transport.py\", line 352, in flush\n",
            "    self._worker.flush(timeout, callback)\n",
            "  File \"/usr/local/lib/python3.7/dist-packages/sentry_sdk/worker.py\", line 96, in flush\n",
            "    logger.debug(\"background worker flushed\")\n",
            "  File \"/usr/lib/python3.7/logging/__init__.py\", line 1366, in debug\n",
            "    self._log(DEBUG, msg, args, **kwargs)\n",
            "  File \"/usr/lib/python3.7/logging/__init__.py\", line 1514, in _log\n",
            "    self.handle(record)\n",
            "  File \"/usr/lib/python3.7/logging/__init__.py\", line 1523, in handle\n",
            "    if (not self.disabled) and self.filter(record):\n",
            "KeyboardInterrupt\n"
          ],
          "name": "stdout"
        }
      ]
    },
    {
      "cell_type": "markdown",
      "metadata": {
        "id": "Hx6DwUC6K7ER"
      },
      "source": [
        ""
      ]
    }
  ]
}