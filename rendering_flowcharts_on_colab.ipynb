{
  "nbformat": 4,
  "nbformat_minor": 0,
  "metadata": {
    "colab": {
      "name": "rendering flowcharts on colab",
      "provenance": [],
      "authorship_tag": "ABX9TyMHzPJFqiZepIYl9UA8Ov7Z",
      "include_colab_link": true
    },
    "kernelspec": {
      "name": "python3",
      "display_name": "Python 3"
    },
    "language_info": {
      "name": "python"
    }
  },
  "cells": [
    {
      "cell_type": "markdown",
      "metadata": {
        "id": "view-in-github",
        "colab_type": "text"
      },
      "source": [
        "<a href=\"https://colab.research.google.com/github/pleabargain/ipynb/blob/master/rendering_flowcharts_on_colab.ipynb\" target=\"_parent\"><img src=\"https://colab.research.google.com/assets/colab-badge.svg\" alt=\"Open In Colab\"/></a>"
      ]
    },
    {
      "cell_type": "code",
      "metadata": {
        "colab": {
          "base_uri": "https://localhost:8080/",
          "height": 355
        },
        "id": "h_iAWhqVFB_7",
        "outputId": "fd2437d2-6563-42fa-8eed-e8fe0c8c34e3"
      },
      "source": [
        "# import the necessary tools\n",
        "! pip install plantuml\n",
        "\n",
        "f= open(\"/content/flow_chart.txt\",\"w\")\n",
        "f.write(f\"\"\"\n",
        "start\n",
        "\n",
        "if (Graphviz installed?) then (yes)\n",
        "  :process all\\ndiagrams;\n",
        "else (no)\n",
        "  :process only\n",
        "  __sequence__ and __activity__ diagrams;\n",
        "endif\n",
        "\n",
        "stop\n",
        "\"\"\")\n",
        "f.close()\n",
        "\n",
        "!python -m plantuml /content/flow_chart.txt\n",
        "\n",
        "from IPython.display import Image\n",
        "Image(f\"flow_chart.png\")\n"
      ],
      "execution_count": 1,
      "outputs": [
        {
          "output_type": "stream",
          "text": [
            "Collecting plantuml\n",
            "  Downloading https://files.pythonhosted.org/packages/a9/1a/4603314acf466fdad91b7f6c83eb1364a7e279f9a8805febe3554f17faf6/plantuml-0.3.0-py3-none-any.whl\n",
            "Requirement already satisfied: httplib2 in /usr/local/lib/python3.7/dist-packages (from plantuml) (0.17.4)\n",
            "Installing collected packages: plantuml\n",
            "Successfully installed plantuml-0.3.0\n",
            "[{'filename': '/content/flow_chart.txt', 'gen_success': True}]\n"
          ],
          "name": "stdout"
        },
        {
          "output_type": "execute_result",
          "data": {
            "image/png": "[encoded data removed]",
            "text/plain": [
              "<IPython.core.display.Image object>"
            ]
          },
          "metadata": {
            "tags": []
          },
          "execution_count": 1
        }
      ]
    },
    {
      "cell_type": "code",
      "metadata": {
        "colab": {
          "base_uri": "https://localhost:8080/",
          "height": 272
        },
        "id": "eL_kHveUFe93",
        "outputId": "a1a0e277-c135-4a57-aab4-5077343ef54d"
      },
      "source": [
        "# import the necessary tools\n",
        "! pip install plantuml\n",
        "\n",
        "f= open(\"/content/flow_chart.txt\",\"w\")\n",
        "f.write(f\"\"\"\n",
        "start\n",
        "\n",
        "if (take a test) then (yes)\n",
        "  :pass;\n",
        "else (no)\n",
        "  :fail;\n",
        "endif\n",
        "\n",
        "stop\n",
        "\"\"\")\n",
        "f.close()\n",
        "\n",
        "!python -m plantuml /content/flow_chart.txt\n",
        "\n",
        "from IPython.display import Image\n",
        "Image(f\"flow_chart.png\")\n"
      ],
      "execution_count": 2,
      "outputs": [
        {
          "output_type": "stream",
          "text": [
            "Requirement already satisfied: plantuml in /usr/local/lib/python3.7/dist-packages (0.3.0)\n",
            "Requirement already satisfied: httplib2 in /usr/local/lib/python3.7/dist-packages (from plantuml) (0.17.4)\n",
            "[{'filename': '/content/flow_chart.txt', 'gen_success': True}]\n"
          ],
          "name": "stdout"
        },
        {
          "output_type": "execute_result",
          "data": {
            "image/png": "[encoded data removed]",
            "text/plain": [
              "<IPython.core.display.Image object>"
            ]
          },
          "metadata": {
            "tags": []
          },
          "execution_count": 2
        }
      ]
    }
  ]
}