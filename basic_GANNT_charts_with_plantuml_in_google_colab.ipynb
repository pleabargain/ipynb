{
  "nbformat": 4,
  "nbformat_minor": 0,
  "metadata": {
    "colab": {
      "name": "basic GANNT charts with plantuml in google colab",
      "provenance": [],
      "collapsed_sections": [],
      "toc_visible": true,
      "authorship_tag": "ABX9TyOoej6bkhTLspO3ekE1/uEC",
      "include_colab_link": true
    },
    "kernelspec": {
      "name": "python3",
      "display_name": "Python 3"
    },
    "language_info": {
      "name": "python"
    }
  },
  "cells": [
    {
      "cell_type": "markdown",
      "metadata": {
        "id": "view-in-github",
        "colab_type": "text"
      },
      "source": [
        "<a href=\"https://colab.research.google.com/github/pleabargain/ipynb/blob/master/basic_GANNT_charts_with_plantuml_in_google_colab.ipynb\" target=\"_parent\"><img src=\"https://colab.research.google.com/assets/colab-badge.svg\" alt=\"Open In Colab\"/></a>"
      ]
    },
    {
      "cell_type": "markdown",
      "metadata": {
        "id": "C3jRybm3no-T"
      },
      "source": [
        "# plantuml\n",
        "## limitations\n",
        "* can't control font\n",
        "* can't control output size of image\n",
        "* doesn't appear to support notes on the gannt charts\n",
        "* text extends beyond the gannt frame\n",
        "\n",
        "## cons\n",
        "python v. doesn't appear to get much love from devs\n",
        "\n",
        "## pros \n",
        "* does support accurate dates"
      ]
    },
    {
      "cell_type": "markdown",
      "metadata": {
        "id": "XFENJvGlNwAt"
      },
      "source": [
        "# basic GANNT chart\n",
        "## usage\n",
        "runtime > runall\n",
        "\n",
        "# holiday planner\n",
        "\n",
        "# python based GANNT visualizer tools\n",
        "\n",
        "# todo\n",
        "* create functions that populate the output\n",
        "\n",
        "## bugs\n",
        "* can't get the tasks to start on different days though\n",
        "* text doesn't wrap"
      ]
    },
    {
      "cell_type": "code",
      "metadata": {
        "colab": {
          "base_uri": "https://localhost:8080/"
        },
        "id": "d5C6VYocOpd6",
        "outputId": "8b157e6b-de12-432f-dc05-800eb38f563d"
      },
      "source": [
        "# import the necessary tools\n",
        "! pip install plantuml"
      ],
      "execution_count": 21,
      "outputs": [
        {
          "output_type": "stream",
          "text": [
            "Requirement already satisfied: plantuml in /usr/local/lib/python3.7/dist-packages (0.3.0)\n",
            "Requirement already satisfied: httplib2 in /usr/local/lib/python3.7/dist-packages (from plantuml) (0.17.4)\n"
          ],
          "name": "stdout"
        }
      ]
    },
    {
      "cell_type": "code",
      "metadata": {
        "id": "_oEVGpZGQuXr"
      },
      "source": [
        "# get rid of prior png\n",
        "!rm *.png\n",
        "!rm *.txt"
      ],
      "execution_count": 22,
      "outputs": []
    },
    {
      "cell_type": "code",
      "metadata": {
        "id": "bjPy9ZPiOLIL",
        "colab": {
          "base_uri": "https://localhost:8080/",
          "height": 216
        },
        "outputId": "e00edf2e-9355-4024-bb2b-6d59e18f272b"
      },
      "source": [
        "f= open(\"/content/ganntchartdemo.txt\",\"w+\")\n",
        "f.write(f\"\"\"[Prototype design] lasts 35 days\n",
        "[Test prototype] lasts 10 days\n",
        "-- A poor as it lacks the ability to set a different start day example --\n",
        "[Task 1 (3 day)] lasts 3 days\n",
        "[T2 (5 days)] lasts 5 days\n",
        "[T3 (1 week)] lasts 1 week\n",
        "[T4 (1 week and 4 days)] lasts 1 week and 4 days\n",
        "[T5 (2 weeks)] lasts 2 weeks\n",
        "\"\"\")\n",
        "f.close()\n",
        "\n",
        "!python -m plantuml ganntchartdemo.txt\n",
        "\n",
        "from IPython.display import Image\n",
        "Image(f\"ganntchartdemo.png\")"
      ],
      "execution_count": 5,
      "outputs": [
        {
          "output_type": "stream",
          "text": [
            "[{'filename': 'ganntchartdemo.txt', 'gen_success': True}]\n"
          ],
          "name": "stdout"
        },
        {
          "output_type": "execute_result",
          "data": {
            "image/png": "[encoded data removed]",
            "text/plain": [
              "<IPython.core.display.Image object>"
            ]
          },
          "metadata": {
            "tags": []
          },
          "execution_count": 5
        }
      ]
    },
    {
      "cell_type": "markdown",
      "metadata": {
        "id": "FELFSowo8N3r"
      },
      "source": [
        "# PlantUML with milestones\n",
        "notes are not displayed"
      ]
    },
    {
      "cell_type": "code",
      "metadata": {
        "colab": {
          "base_uri": "https://localhost:8080/",
          "height": 127
        },
        "id": "KMfrd3Ii8NNS",
        "outputId": "7b117541-83d9-4cbb-bbf6-c35fb7a0fabf"
      },
      "source": [
        "f= open(\"/content/milestone.txt\",\"w+\")\n",
        "f.write(f\"\"\"project starts 2021/05/01\n",
        "[Milestone] happens 2021/05/22\n",
        "note bottom\n",
        "    This is a description of \"Milestone\"\n",
        "end note\n",
        "\"\"\")\n",
        "f.close()\n",
        "\n",
        "!python -m plantuml milestone.txt\n",
        "\n",
        "from IPython.display import Image\n",
        "Image(f\"milestone.png\")"
      ],
      "execution_count": 27,
      "outputs": [
        {
          "output_type": "stream",
          "text": [
            "[{'filename': 'milestone.txt', 'gen_success': True}]\n"
          ],
          "name": "stdout"
        },
        {
          "output_type": "execute_result",
          "data": {
            "image/png": "[encoded data removed]",
            "text/plain": [
              "<IPython.core.display.Image object>"
            ]
          },
          "metadata": {
            "tags": []
          },
          "execution_count": 27
        }
      ]
    },
    {
      "cell_type": "markdown",
      "metadata": {
        "id": "hYF1NBln9mw_"
      },
      "source": [
        "# gannt with "
      ]
    },
    {
      "cell_type": "code",
      "metadata": {
        "colab": {
          "base_uri": "https://localhost:8080/",
          "height": 143
        },
        "id": "WuozFnlU9sgI",
        "outputId": "fd700d28-0ba7-4506-bc7d-1c688f0e5f9e"
      },
      "source": [
        "f= open(\"/content/milestone_with_note.txt\",\"w+\")\n",
        "f.write(f\"\"\"project starts 2021/06/01\n",
        "[Test prototype] lasts 17 days\n",
        "[Milestone] happens 2021/06/05\n",
        "note bottom\n",
        "    This is a description of \"Milestone\"\n",
        "end note\n",
        "\"\"\")\n",
        "f.close()\n",
        "\n",
        "!python -m plantuml milestone_with_note.txt\n",
        "\n",
        "from IPython.display import Image\n",
        "Image(f\"milestone_with_note.png\")"
      ],
      "execution_count": 30,
      "outputs": [
        {
          "output_type": "stream",
          "text": [
            "[{'filename': 'milestone_with_note.txt', 'gen_success': True}]\n"
          ],
          "name": "stdout"
        },
        {
          "output_type": "execute_result",
          "data": {
            "image/png": "[encoded data removed]",
            "text/plain": [
              "<IPython.core.display.Image object>"
            ]
          },
          "metadata": {
            "tags": []
          },
          "execution_count": 30
        }
      ]
    },
    {
      "cell_type": "markdown",
      "metadata": {
        "id": "doqbKWSR-lyc"
      },
      "source": [
        "# plantUML with multiple milestones and tasks\n",
        "\n",
        "https://forum.plantuml.net/11691/nasty-bug-in-gantt-chart-milestone-placement"
      ]
    },
    {
      "cell_type": "code",
      "metadata": {
        "colab": {
          "base_uri": "https://localhost:8080/",
          "height": 173
        },
        "id": "IVA1lMUf-nuk",
        "outputId": "76b6f354-83a3-495b-cbd8-966f9fbd2107"
      },
      "source": [
        "f= open(\"/content/tasks_milestone_with_note.txt\",\"w\")\n",
        "f.write(f\"\"\"project starts 2021/05/01\n",
        "[TASK1] lasts 12 days\n",
        "[TASK2] lasts 4 days\n",
        "[MS1a] happens at 0 days after [TASK2]'s end\n",
        "[TASK1] -> [TASK2]\n",
        "[task 2 end] happens at 0 days after [TASK2]'s end\n",
        "\"\"\")\n",
        "f.close()\n",
        "\n",
        "!python -m plantuml tasks_milestone_with_note.txt\n",
        "\n",
        "from IPython.display import Image\n",
        "\n",
        "Image(f\"tasks_milestone_with_note.png\")\n",
        "#Image(f\"milestone_with_note.png\")"
      ],
      "execution_count": 32,
      "outputs": [
        {
          "output_type": "stream",
          "text": [
            "[{'filename': 'tasks_milestone_with_note.txt', 'gen_success': True}]\n"
          ],
          "name": "stdout"
        },
        {
          "output_type": "execute_result",
          "data": {
            "image/png": "[encoded data removed]",
            "text/plain": [
              "<IPython.core.display.Image object>"
            ]
          },
          "metadata": {
            "tags": []
          },
          "execution_count": 32
        }
      ]
    },
    {
      "cell_type": "markdown",
      "metadata": {
        "id": "yj0L4q7PkBNR"
      },
      "source": [
        "# really long task name"
      ]
    },
    {
      "cell_type": "code",
      "metadata": {
        "colab": {
          "base_uri": "https://localhost:8080/",
          "height": 206
        },
        "id": "onMTuSObkD_s",
        "outputId": "b1677581-ce77-4806-8e89-6a0cacd2b58d"
      },
      "source": [
        "# import the necessary tools\n",
        "! pip install plantuml\n",
        "\n",
        "f= open(\"/content/tasks_milestone_with_note.txt\",\"w\")\n",
        "f.write(f\"\"\"\n",
        "skinparam classFontColor red\n",
        "skinparam classFontSize 40\n",
        "\n",
        "project starts 2021/05/01\n",
        "[really really long task name that goes really long] lasts 12 days\n",
        "[TASK2] lasts 4 days\n",
        "[MS1a] happens at 0 days after [TASK2]'s end\n",
        "[really really long task name that goes really long] -> [TASK2]\n",
        "[task 2 end] happens at 0 days after [TASK2]'s end\n",
        "\"\"\")\n",
        "f.close()\n",
        "\n",
        "!python -m plantuml tasks_milestone_with_note.txt\n",
        "\n",
        "from IPython.display import Image\n",
        "Image(f\"tasks_milestone_with_note.png\")\n",
        "#Image(f\"milestone_with_note.png\")"
      ],
      "execution_count": 4,
      "outputs": [
        {
          "output_type": "stream",
          "text": [
            "Requirement already satisfied: plantuml in /usr/local/lib/python3.7/dist-packages (0.3.0)\n",
            "Requirement already satisfied: httplib2 in /usr/local/lib/python3.7/dist-packages (from plantuml) (0.17.4)\n",
            "[{'filename': 'tasks_milestone_with_note.txt', 'gen_success': True}]\n"
          ],
          "name": "stdout"
        },
        {
          "output_type": "execute_result",
          "data": {
            "image/png": "[encoded data removed]",
            "text/plain": [
              "<IPython.core.display.Image object>"
            ]
          },
          "metadata": {
            "tags": []
          },
          "execution_count": 4
        }
      ]
    }
  ]
}