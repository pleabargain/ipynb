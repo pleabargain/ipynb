{
  "nbformat": 4,
  "nbformat_minor": 0,
  "metadata": {
    "colab": {
      "name": "plantuml timeline English Tenses",
      "provenance": [],
      "collapsed_sections": [
        "AsCqlGG5fVdq",
        "si2IuDHZfH-6",
        "_VmV6ldNzKhX",
        "BHcXc-bMz0iK",
        "y8cM6V-l0OFh",
        "wqEpxNsl27yv",
        "Hi9ppI3O3abn"
      ],
      "authorship_tag": "ABX9TyPRiFj4+su81D/vOr86DhcD",
      "include_colab_link": true
    },
    "kernelspec": {
      "name": "python3",
      "display_name": "Python 3"
    },
    "language_info": {
      "name": "python"
    }
  },
  "cells": [
    {
      "cell_type": "markdown",
      "metadata": {
        "id": "view-in-github",
        "colab_type": "text"
      },
      "source": [
        "<a href=\"https://colab.research.google.com/github/pleabargain/ipynb/blob/master/plantuml_timeline_English_Tenses.ipynb\" target=\"_parent\"><img src=\"https://colab.research.google.com/assets/colab-badge.svg\" alt=\"Open In Colab\"/></a>"
      ]
    },
    {
      "cell_type": "markdown",
      "metadata": {
        "id": "GnZprNNwvB70"
      },
      "source": [
        "1. open file\n",
        "2. write timleine to it\n",
        "\n",
        "1.   List item\n",
        "2.   List item\n",
        "\n"
      ]
    },
    {
      "cell_type": "code",
      "metadata": {
        "id": "LeVswJz0v0ho",
        "colab": {
          "base_uri": "https://localhost:8080/"
        },
        "outputId": "e31486d3-7865-4ce1-b8de-4260ae516093"
      },
      "source": [
        "!pip install icecream\n",
        "! pip install plantuml\n",
        "\n",
        "import random\n",
        "from icecream import ic"
      ],
      "execution_count": 165,
      "outputs": [
        {
          "output_type": "stream",
          "text": [
            "Requirement already satisfied: icecream in /usr/local/lib/python3.7/dist-packages (2.1.0)\n",
            "Requirement already satisfied: colorama>=0.3.9 in /usr/local/lib/python3.7/dist-packages (from icecream) (0.4.4)\n",
            "Requirement already satisfied: pygments>=2.2.0 in /usr/local/lib/python3.7/dist-packages (from icecream) (2.6.1)\n",
            "Requirement already satisfied: asttokens>=2.0.1 in /usr/local/lib/python3.7/dist-packages (from icecream) (2.0.5)\n",
            "Requirement already satisfied: executing>=0.3.1 in /usr/local/lib/python3.7/dist-packages (from icecream) (0.6.0)\n",
            "Requirement already satisfied: six in /usr/local/lib/python3.7/dist-packages (from asttokens>=2.0.1->icecream) (1.15.0)\n",
            "Requirement already satisfied: plantuml in /usr/local/lib/python3.7/dist-packages (0.3.0)\n",
            "Requirement already satisfied: httplib2 in /usr/local/lib/python3.7/dist-packages (from plantuml) (0.17.4)\n"
          ],
          "name": "stdout"
        }
      ]
    },
    {
      "cell_type": "markdown",
      "metadata": {
        "id": "02SnIVJLfRFZ"
      },
      "source": [
        "# mix "
      ]
    },
    {
      "cell_type": "code",
      "metadata": {
        "colab": {
          "base_uri": "https://localhost:8080/",
          "height": 262
        },
        "id": "7XCtqEy8udQb",
        "outputId": "45cd45aa-3726-40b6-ca1c-8f8939b6223f"
      },
      "source": [
        "f= open(\"/content/mix_things_to_ride.txt\",\"w+\")\n",
        "f.write(f\"\"\"an elephant\n",
        "a camel\n",
        "a bicycle\n",
        "a hype wave\n",
        "a bike\n",
        "a motorcycle\n",
        "a donkey\n",
        "an ass\n",
        "a bus\n",
        "an ostrich\n",
        "an alpaca\n",
        "a horse\n",
        "a train\n",
        "a skateboard\n",
        "an e-bike\n",
        "a motorbike\n",
        "an e-scooter\n",
        "a surfoard\n",
        "a roller-coaster\n",
        "a wave\n",
        "\"\"\")\n",
        "f.close()\n",
        "\n",
        "example1 = \"/content/mix_things_to_ride.txt\"\n",
        "with open(example1, \"r\") as file1:\n",
        "    FileasList = file1.readlines()\n",
        "\n",
        "\n",
        "def r_mix_things_to_ride():\n",
        "    lines = open(\"/content/mix_things_to_ride.txt\").read().splitlines()\n",
        "    myline =random.choice(lines)\n",
        "    # print(myline)\n",
        "    return str(myline)\n",
        "\n",
        "\n",
        "\n",
        "# def r_past_perfect_continuous():\n",
        "#     return (\"past perfect continuous\")\n",
        "ic(r_past_perfect_continuous())\n",
        "\n",
        "def r_past_perfect():\n",
        "    return (\"past perfect\")\n",
        "\n",
        "def r_past_continuous():\n",
        "    return (\"past continuous\")\n",
        "\n",
        "def r_past_simple():\n",
        "    return (\"past simple\")\n",
        "\n",
        "def r_present_perfect_continuous():\n",
        "    return (\"present perfect continuous\")\n",
        "\n",
        "def r_present_perfect():\n",
        "    return (\"present perfect\")\n",
        "\n",
        "def r_present_continuous():\n",
        "    return (\"present continuous\")\n",
        "\n",
        "\n",
        "def r_present_simple():\n",
        "    return (\"present simple\")\n",
        "\n",
        "def r_future_perfect_continuous():\n",
        "    return (\"future perfect continuous\")\n",
        "\n",
        "def r_future_perfect():\n",
        "    return (\"future perfect\")\n",
        "\n",
        "def r_future_continuous():\n",
        "    return (\"future_continuous\")\n",
        "\n",
        "\n",
        "def r_future_simple():\n",
        "    return (\"future simple\")\n",
        "\n",
        "\n",
        "ic (r_mix_things_to_ride())\n",
        "ic (r_past_perfect_continuous())\n",
        "ic (r_past_perfect())\n",
        "ic (r_past_continuous())\n",
        "ic(r_past_simple())\n",
        "ic(r_present_perfect_continuous())\n",
        "ic(r_present_continuous())\n",
        "ic(r_present_perfect())\n",
        "ic(r_present_simple())\n",
        "ic(r_future_perfect_continuous())\n",
        "ic(r_future_continuous())\n",
        "ic(r_future_perfect())\n",
        "ic(r_future_simple())\n",
        "\n"
      ],
      "execution_count": 167,
      "outputs": [
        {
          "output_type": "stream",
          "text": [
            "ic| r_past_perfect_continuous(): 'We had been eating...'\n",
            "ic| r_mix_things_to_ride(): 'a bike'\n",
            "ic| r_past_perfect_continuous(): 'I had been going to school...'\n",
            "ic| r_past_perfect(): 'past perfect'\n",
            "ic| r_past_continuous(): 'past continuous'\n",
            "ic| r_past_simple(): 'past simple'\n",
            "ic| r_present_perfect_continuous(): 'present perfect continuous'\n",
            "ic| r_present_continuous(): 'present continuous'\n",
            "ic| r_present_perfect(): 'present perfect'\n",
            "ic| r_present_simple(): 'present simple'\n",
            "ic| r_future_perfect_continuous(): 'future perfect continuous'\n",
            "ic| r_future_continuous(): 'future_continuous'\n",
            "ic| r_future_perfect(): 'future perfect'\n",
            "ic| r_future_simple(): 'future simple'\n"
          ],
          "name": "stderr"
        },
        {
          "output_type": "execute_result",
          "data": {
            "application/vnd.google.colaboratory.intrinsic+json": {
              "type": "string"
            },
            "text/plain": [
              "'future simple'"
            ]
          },
          "metadata": {
            "tags": []
          },
          "execution_count": 167
        }
      ]
    },
    {
      "cell_type": "markdown",
      "metadata": {
        "id": "TRPCMYznjJts"
      },
      "source": [
        "# ascii timeline"
      ]
    },
    {
      "cell_type": "code",
      "metadata": {
        "colab": {
          "base_uri": "https://localhost:8080/"
        },
        "id": "to7jkZLNu-HU",
        "outputId": "8ceafc7f-8a6e-4fba-eba5-8a1dca319208"
      },
      "source": [
        "print(f\"\"\"                    {r_past_simple()}                    {r_present_simple()}                   {r_future_simple()}\n",
        "                                      │                                    │\n",
        "                                      │                                    │\n",
        "              {r_past_continuous()}                              {r_present_continuous()}               {r_future_continuous()}\n",
        "                          │           │                                │   │                         │\n",
        "    ──────────┐           │        ┌──┼─────────┐                      ▼   │ ┌─────────────┐         ▼\n",
        "              │         ┌─▼┐       │  │         │                     ┌┬┐  │ │             │        ┌┬┐\n",
        "    ──────────┼─────────┴──┴───────┼──┼─────────┼─────────────────────┴─┴──┼─┼─▲───────────┼────────┴─┘►\n",
        "              │                    │  │         │                          │ │ │           │\n",
        "    ───▲─────▲┘                    └──┼────▲────┘                          │ └─┼───────────┘\n",
        "       │     │                        │    │    ▲                          │   │           ▲\n",
        "       │     │                        │    │    │                              │           │\n",
        "       │     │                             │    {r_present_perfect()}          │            {r_future_perfect()}\n",
        "       {r_past_perfect()}                  │                                   │\n",
        "       │                                   │                                   │    \n",
        "       │                                   │                                   │ \n",
        "       │                                   │                                   │           \n",
        "       │                                   │                               \n",
        "       \n",
        "{r_past_perfect_continuous()}          {r_present_perfect_continuous()}                  {r_future_perfect_continuous()}\"\"\")"
      ],
      "execution_count": 168,
      "outputs": [
        {
          "output_type": "stream",
          "text": [
            "                    past simple                    present simple                   future simple\n",
            "                                      │                                    │\n",
            "                                      │                                    │\n",
            "              past continuous                              present continuous               future_continuous\n",
            "                          │           │                                │   │                         │\n",
            "    ──────────┐           │        ┌──┼─────────┐                      ▼   │ ┌─────────────┐         ▼\n",
            "              │         ┌─▼┐       │  │         │                     ┌┬┐  │ │             │        ┌┬┐\n",
            "    ──────────┼─────────┴──┴───────┼──┼─────────┼─────────────────────┴─┴──┼─┼─▲───────────┼────────┴─┘►\n",
            "              │                    │  │         │                          │ │ │           │\n",
            "    ───▲─────▲┘                    └──┼────▲────┘                          │ └─┼───────────┘\n",
            "       │     │                        │    │    ▲                          │   │           ▲\n",
            "       │     │                        │    │    │                              │           │\n",
            "       │     │                             │    present perfect          │            future perfect\n",
            "       past perfect                  │                                   │\n",
            "       │                                   │                                   │    \n",
            "       │                                   │                                   │ \n",
            "       │                                   │                                   │           \n",
            "       │                                   │                               \n",
            "       \n",
            "We had been eating...          present perfect continuous                  future perfect continuous\n"
          ],
          "name": "stdout"
        }
      ]
    },
    {
      "cell_type": "markdown",
      "metadata": {
        "id": "AsCqlGG5fVdq"
      },
      "source": [
        "# past simple"
      ]
    },
    {
      "cell_type": "code",
      "metadata": {
        "colab": {
          "base_uri": "https://localhost:8080/",
          "height": 51
        },
        "id": "fyOEFsjsfVdr",
        "outputId": "c9e7b838-804f-41df-e22e-5d41c776652e"
      },
      "source": [
        "filename = \"past_simple.txt\"\n",
        "directory = \"/content/\"\n",
        "f= open(f\"{directory}{filename}\",\"w+\")\n",
        "f.write(f\"\"\"I went to school...\n",
        "We ate ...\n",
        "They liked ...\n",
        "\"\"\")\n",
        "f.close()\n",
        "\n",
        "example1 = f\"{directory}{filename}\"\n",
        "with open(example1, \"r\") as file1:\n",
        "    FileasList = file1.readlines()\n",
        "\n",
        "\n",
        "def r_past_simple():\n",
        "    lines = open(f\"{directory}{filename}\").read().splitlines()\n",
        "    myline =random.choice(lines)\n",
        "    # print(myline)\n",
        "    return str(myline)\n",
        "ic(r_past_simple())"
      ],
      "execution_count": 202,
      "outputs": [
        {
          "output_type": "stream",
          "text": [
            "ic| r_past_simple(): 'They liked ...'\n"
          ],
          "name": "stderr"
        },
        {
          "output_type": "execute_result",
          "data": {
            "application/vnd.google.colaboratory.intrinsic+json": {
              "type": "string"
            },
            "text/plain": [
              "'They liked ...'"
            ]
          },
          "metadata": {
            "tags": []
          },
          "execution_count": 202
        }
      ]
    },
    {
      "cell_type": "markdown",
      "metadata": {
        "id": "si2IuDHZfH-6"
      },
      "source": [
        "# past perfect continuous"
      ]
    },
    {
      "cell_type": "code",
      "metadata": {
        "colab": {
          "base_uri": "https://localhost:8080/",
          "height": 51
        },
        "id": "0m3vQMQzGa_x",
        "outputId": "b1217c85-7a01-4012-936b-995f55b2dfd2"
      },
      "source": [
        "filename = \"past_perfect_continuous.txt\"\n",
        "directory = \"/content/\"\n",
        "f= open(f\"{directory}{filename}\",\"w+\")\n",
        "f.write(f\"\"\"I had been going to school...\n",
        "We had been eating...\n",
        "She had been taken...\n",
        "\"\"\")\n",
        "f.close()\n",
        "\n",
        "example1 = f\"{directory}{filename}\"\n",
        "with open(example1, \"r\") as file1:\n",
        "    FileasList = file1.readlines()\n",
        "\n",
        "\n",
        "def r_past_perfect_continuous():\n",
        "    lines = open(f\"{directory}{filename}\").read().splitlines()\n",
        "    myline =random.choice(lines)\n",
        "    # print(myline)\n",
        "    return str(myline)\n",
        "ic(r_past_perfect_continuous())"
      ],
      "execution_count": 206,
      "outputs": [
        {
          "output_type": "stream",
          "text": [
            "ic| r_past_perfect_continuous(): 'We had been eating...'\n"
          ],
          "name": "stderr"
        },
        {
          "output_type": "execute_result",
          "data": {
            "application/vnd.google.colaboratory.intrinsic+json": {
              "type": "string"
            },
            "text/plain": [
              "'We had been eating...'"
            ]
          },
          "metadata": {
            "tags": []
          },
          "execution_count": 206
        }
      ]
    },
    {
      "cell_type": "markdown",
      "metadata": {
        "id": "_VmV6ldNzKhX"
      },
      "source": [
        "# past perfect "
      ]
    },
    {
      "cell_type": "code",
      "metadata": {
        "colab": {
          "base_uri": "https://localhost:8080/",
          "height": 51
        },
        "id": "RMkRucEFzKhk",
        "outputId": "e955a1bf-3a09-412c-bfb0-ce00cd7de7fc"
      },
      "source": [
        "filename = \"past_perfect.txt\"\n",
        "directory = \"/content/\"\n",
        "f= open(f\"{directory}{filename}\",\"w+\")\n",
        "f.write(f\"\"\"I had gone to ...\n",
        "We had eaten...\n",
        "She had taken...\n",
        "They had left ...\n",
        "\"\"\")\n",
        "f.close()\n",
        "\n",
        "example1 = f\"{directory}{filename}\"\n",
        "with open(example1, \"r\") as file1:\n",
        "    FileasList = file1.readlines()\n",
        "\n",
        "\n",
        "def r_past_perfect():\n",
        "    lines = open(f\"{directory}{filename}\").read().splitlines()\n",
        "    myline =random.choice(lines)\n",
        "    # print(myline)\n",
        "    return str(myline)\n",
        "ic(r_past_perfect())"
      ],
      "execution_count": 218,
      "outputs": [
        {
          "output_type": "stream",
          "text": [
            "ic| r_past_perfect(): 'They had left ...'\n"
          ],
          "name": "stderr"
        },
        {
          "output_type": "execute_result",
          "data": {
            "application/vnd.google.colaboratory.intrinsic+json": {
              "type": "string"
            },
            "text/plain": [
              "'They had left ...'"
            ]
          },
          "metadata": {
            "tags": []
          },
          "execution_count": 218
        }
      ]
    },
    {
      "cell_type": "markdown",
      "metadata": {
        "id": "BHcXc-bMz0iK"
      },
      "source": [
        "# past continuous"
      ]
    },
    {
      "cell_type": "code",
      "metadata": {
        "colab": {
          "base_uri": "https://localhost:8080/",
          "height": 51
        },
        "id": "OT-24hvSz0iL",
        "outputId": "e31fcd3f-8afa-4aa1-f10b-5f521983fa5f"
      },
      "source": [
        "filename = \"past_continuous.txt\"\n",
        "directory = \"/content/\"\n",
        "f= open(f\"{directory}{filename}\",\"w+\")\n",
        "f.write(f\"\"\"I had gone to ...\n",
        "We had eaten...\n",
        "She had taken...\n",
        "They had left ...\n",
        "\"\"\")\n",
        "f.close()\n",
        "\n",
        "example1 = f\"{directory}{filename}\"\n",
        "with open(example1, \"r\") as file1:\n",
        "    FileasList = file1.readlines()\n",
        "\n",
        "\n",
        "def r_past_continuous():\n",
        "    lines = open(f\"{directory}{filename}\").read().splitlines()\n",
        "    myline =random.choice(lines)\n",
        "    # print(myline)\n",
        "    return str(myline)\n",
        "ic(r_past_continuous())"
      ],
      "execution_count": 217,
      "outputs": [
        {
          "output_type": "stream",
          "text": [
            "ic| r_past_continuous(): 'She had taken...'\n"
          ],
          "name": "stderr"
        },
        {
          "output_type": "execute_result",
          "data": {
            "application/vnd.google.colaboratory.intrinsic+json": {
              "type": "string"
            },
            "text/plain": [
              "'She had taken...'"
            ]
          },
          "metadata": {
            "tags": []
          },
          "execution_count": 217
        }
      ]
    },
    {
      "cell_type": "markdown",
      "metadata": {
        "id": "y8cM6V-l0OFh"
      },
      "source": [
        "# present simple"
      ]
    },
    {
      "cell_type": "code",
      "metadata": {
        "colab": {
          "base_uri": "https://localhost:8080/",
          "height": 51
        },
        "id": "ocCgOzR50OFi",
        "outputId": "9eb2ef68-cb90-4733-81e2-6460cc78fcd9"
      },
      "source": [
        "filename = \"present_simple.txt\"\n",
        "directory = \"/content/\"\n",
        "f= open(f\"{directory}{filename}\",\"w+\")\n",
        "f.write(f\"\"\"I go to school...\n",
        "We eat ...\n",
        "They like ...\n",
        "\"\"\")\n",
        "f.close()\n",
        "\n",
        "example1 = f\"{directory}{filename}\"\n",
        "with open(example1, \"r\") as file1:\n",
        "    FileasList = file1.readlines()\n",
        "\n",
        "\n",
        "def r_present_simple():\n",
        "    lines = open(f\"{directory}{filename}\").read().splitlines()\n",
        "    myline =random.choice(lines)\n",
        "    # print(myline)\n",
        "    return str(myline)\n",
        "ic(r_present_simple())"
      ],
      "execution_count": 220,
      "outputs": [
        {
          "output_type": "stream",
          "text": [
            "ic| r_present_simple(): 'We eat ...'\n"
          ],
          "name": "stderr"
        },
        {
          "output_type": "execute_result",
          "data": {
            "application/vnd.google.colaboratory.intrinsic+json": {
              "type": "string"
            },
            "text/plain": [
              "'We eat ...'"
            ]
          },
          "metadata": {
            "tags": []
          },
          "execution_count": 220
        }
      ]
    },
    {
      "cell_type": "markdown",
      "metadata": {
        "id": "wqEpxNsl27yv"
      },
      "source": [
        "# present perfect continuous"
      ]
    },
    {
      "cell_type": "code",
      "metadata": {
        "colab": {
          "base_uri": "https://localhost:8080/",
          "height": 51
        },
        "id": "u7ars03A27yv",
        "outputId": "6381b87a-d8e9-42d6-e7db-c0a40983c6d0"
      },
      "source": [
        "filename = \"present_perfect_continuous.txt\"\n",
        "directory = \"/content/\"\n",
        "f= open(f\"{directory}{filename}\",\"w+\")\n",
        "f.write(f\"\"\"I have been going to...\n",
        "We have been eating ...\n",
        "They have been liking ...\n",
        "\"\"\")\n",
        "f.close()\n",
        "\n",
        "example1 = f\"{directory}{filename}\"\n",
        "with open(example1, \"r\") as file1:\n",
        "    FileasList = file1.readlines()\n",
        "\n",
        "\n",
        "def r_present_perfect_continuous():\n",
        "    lines = open(f\"{directory}{filename}\").read().splitlines()\n",
        "    myline =random.choice(lines)\n",
        "    # print(myline)\n",
        "    return str(myline)\n",
        "ic(r_present_perfect_continuous())"
      ],
      "execution_count": 221,
      "outputs": [
        {
          "output_type": "stream",
          "text": [
            "ic| r_present_perfect_continuous(): 'We have been eating ...'\n"
          ],
          "name": "stderr"
        },
        {
          "output_type": "execute_result",
          "data": {
            "application/vnd.google.colaboratory.intrinsic+json": {
              "type": "string"
            },
            "text/plain": [
              "'We have been eating ...'"
            ]
          },
          "metadata": {
            "tags": []
          },
          "execution_count": 221
        }
      ]
    },
    {
      "cell_type": "markdown",
      "metadata": {
        "id": "Hi9ppI3O3abn"
      },
      "source": [
        "# present perfect"
      ]
    },
    {
      "cell_type": "code",
      "metadata": {
        "colab": {
          "base_uri": "https://localhost:8080/",
          "height": 51
        },
        "id": "ZSLsZ1uB3abn",
        "outputId": "8e4bda99-48cd-4915-c1af-0f76425b8cff"
      },
      "source": [
        "filename = \"c.txt\"\n",
        "directory = \"/content/\"\n",
        "f= open(f\"{directory}{filename}\",\"w+\")\n",
        "f.write(f\"\"\"I have been to...\n",
        "We have eaten ...\n",
        "They have liked ...\n",
        "\"\"\")\n",
        "f.close()\n",
        "\n",
        "example1 = f\"{directory}{filename}\"\n",
        "with open(example1, \"r\") as file1:\n",
        "    FileasList = file1.readlines()\n",
        "\n",
        "\n",
        "def r_present_perfect():\n",
        "    lines = open(f\"{directory}{filename}\").read().splitlines()\n",
        "    myline =random.choice(lines)\n",
        "    # print(myline)\n",
        "    return str(myline)\n",
        "ic(r_present_perfect())"
      ],
      "execution_count": 222,
      "outputs": [
        {
          "output_type": "stream",
          "text": [
            "ic| r_present_perfect(): 'We have eaten ...'\n"
          ],
          "name": "stderr"
        },
        {
          "output_type": "execute_result",
          "data": {
            "application/vnd.google.colaboratory.intrinsic+json": {
              "type": "string"
            },
            "text/plain": [
              "'We have eaten ...'"
            ]
          },
          "metadata": {
            "tags": []
          },
          "execution_count": 222
        }
      ]
    },
    {
      "cell_type": "markdown",
      "metadata": {
        "id": "y-rGzQWs3w2s"
      },
      "source": [
        "# present continuous"
      ]
    },
    {
      "cell_type": "code",
      "metadata": {
        "colab": {
          "base_uri": "https://localhost:8080/",
          "height": 51
        },
        "id": "8jSjvF4m3w2t",
        "outputId": "6381b87a-d8e9-42d6-e7db-c0a40983c6d0"
      },
      "source": [
        "filename = \"present_continuous.txt\"\n",
        "directory = \"/content/\"\n",
        "f= open(f\"{directory}{filename}\",\"w+\")\n",
        "f.write(f\"\"\"I am going to...\n",
        "We are going to eating ...\n",
        "They are going to like ...\n",
        "\"\"\")\n",
        "f.close()\n",
        "\n",
        "example1 = f\"{directory}{filename}\"\n",
        "with open(example1, \"r\") as file1:\n",
        "    FileasList = file1.readlines()\n",
        "\n",
        "\n",
        "def r_present_continuous():\n",
        "    lines = open(f\"{directory}{filename}\").read().splitlines()\n",
        "    myline =random.choice(lines)\n",
        "    # print(myline)\n",
        "    return str(myline)\n",
        "ic(r_present_continuous())"
      ],
      "execution_count": null,
      "outputs": [
        {
          "output_type": "stream",
          "text": [
            "ic| r_present_perfect_continuous(): 'We have been eating ...'\n"
          ],
          "name": "stderr"
        },
        {
          "output_type": "execute_result",
          "data": {
            "application/vnd.google.colaboratory.intrinsic+json": {
              "type": "string"
            },
            "text/plain": [
              "'We have been eating ...'"
            ]
          },
          "metadata": {
            "tags": []
          },
          "execution_count": 221
        }
      ]
    },
    {
      "cell_type": "markdown",
      "metadata": {
        "id": "0qljWx6dVKnc"
      },
      "source": [
        "# sequence generator\n",
        "\n",
        "notes\n",
        "\n",
        "the order of the lines is very important\n",
        "\n",
        "column headers cannot have spaces or line breaks"
      ]
    },
    {
      "cell_type": "code",
      "metadata": {
        "colab": {
          "base_uri": "https://localhost:8080/"
        },
        "id": "18RHWnB7VAum",
        "outputId": "19e92e0f-6efc-421c-be58-843fbfd3d1a8"
      },
      "source": [
        "f= open(\"/content/12tenses.txt\",\"w+\")\n",
        "f.write(f\"\"\"title Twelve English Tenses\n",
        "\n",
        "PAST->PAST_SIMPLE:\n",
        "note left of PAST_SIMPLE: {r_past_simple()}\n",
        "PAST->PAST_PERFECT_CONTINUOUS:\n",
        "note left of PAST_PERFECT_CONTINUOUS: {r_past_perfect_continuous()}\n",
        "PAST->PAST_PERFECT: \n",
        "note left of PAST_PERFECT: {r_past_perfect()}\n",
        "PAST->PAST_CONTINUOUS:\n",
        "note left of PAST_CONTINUOUS: {r_past_continuous()}\n",
        "\n",
        "PAST->PRESENT: \n",
        "PRESENT->PRESENT_SIMPLE\n",
        "note left of PRESENT_SIMPLE: {r_present_simple()}\n",
        "PRESENT->PRESENT_PERFECT_CONTINUOUS\n",
        "note left of PRESENT_PERFECT_CONTINUOUS: {r_present_perfect_continuous()}\n",
        "PRESENT->PRESENT_PERFECT\n",
        "note left of PRESENT_PERFECT: {r_present_perfect()}\n",
        "PRESENT->PRESENT_CONTINUOUS\n",
        "note left of PRESENT_CONTINUOUS: {r_present_continuous()}\n",
        "\n",
        "\n",
        "PRESENT->FUTURE:\n",
        "FUTURE->FUTURE_SIMPLE\n",
        "note left of FUTURE_SIMPLE: {r_future_simple()}\n",
        "FUTURE->FUTURE_PERFECT_CONTINUOUS\n",
        "note left of FUTURE_PERFECT_CONTINUOUS: {r_future_perfect_continuous()}\n",
        "FUTURE->FUTURE_PERFECT\n",
        "note left of FUTURE_PERFECT: {r_future_perfect()}\n",
        "FUTURE->FUTURE_CONTINUOUS\n",
        "note left of FUTURE_CONTINUOUS: {r_future_continuous()}\n",
        "\n",
        "\"\"\")\n",
        "f.close()\n",
        "\n",
        "example1 = \"/content/12tenses.txt\"\n",
        "with open(example1, \"r\") as file1:\n",
        "    FileasList = file1.readlines()\n",
        "\n",
        "!python -m plantuml 12tenses.txt"
      ],
      "execution_count": 214,
      "outputs": [
        {
          "output_type": "stream",
          "text": [
            "[{'filename': '12tenses.txt', 'gen_success': True}]\n"
          ],
          "name": "stdout"
        }
      ]
    },
    {
      "cell_type": "markdown",
      "metadata": {
        "id": "_zEcAL40ZT4V"
      },
      "source": [
        "# create GANNT chart"
      ]
    },
    {
      "cell_type": "code",
      "metadata": {
        "colab": {
          "base_uri": "https://localhost:8080/"
        },
        "id": "LDgtmbLgYqIA",
        "outputId": "25099da0-1b79-4557-d3ce-aac002f3d7f5"
      },
      "source": [
        "!python -m plantuml gant.txt"
      ],
      "execution_count": 173,
      "outputs": [
        {
          "output_type": "stream",
          "text": [
            "[{'filename': 'gant.txt', 'gen_success': True}]\n"
          ],
          "name": "stdout"
        }
      ]
    }
  ]
}