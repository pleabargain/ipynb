{
  "nbformat": 4,
  "nbformat_minor": 0,
  "metadata": {
    "colab": {
      "name": "divisor exercise continue to run user enters quit.ipynb",
      "version": "0.3.2",
      "provenance": [],
      "collapsed_sections": [],
      "include_colab_link": true
    },
    "kernelspec": {
      "name": "python3",
      "display_name": "Python 3"
    }
  },
  "cells": [
    {
      "cell_type": "markdown",
      "metadata": {
        "id": "view-in-github",
        "colab_type": "text"
      },
      "source": [
        "<a href=\"https://colab.research.google.com/github/pleabargain/ipynb/blob/master/divisor_exercise_continue_to_run_user_enters_quit.ipynb\" target=\"_parent\"><img src=\"https://colab.research.google.com/assets/colab-badge.svg\" alt=\"Open In Colab\"/></a>"
      ]
    },
    {
      "metadata": {
        "id": "AHk1WRmUXviS",
        "colab_type": "text"
      },
      "cell_type": "markdown",
      "source": [
        "Create a program that asks the user for a number and then prints out a list of all the divisors of that number. (If you don’t know what a divisor is, it is a number that divides evenly into another number. For example, 13 is a divisor of 26 because 26 / 13 has no remainder.)"
      ]
    },
    {
      "metadata": {
        "id": "IIGmbK1gZJGZ",
        "colab_type": "text"
      },
      "cell_type": "markdown",
      "source": [
        "I need to learn how to keep running the same application... use a while statement..?"
      ]
    },
    {
      "metadata": {
        "id": "zuAW8tU5ltso",
        "colab_type": "code",
        "colab": {}
      },
      "cell_type": "code",
      "source": [
        "def user_divisor():\n",
        "  user_divisor= int(input(\"What is your divisor:\"))\n",
        "  for x in user_range:\n",
        "     if x % user_divisor==0:\n",
        "      print (x)    \n",
        "  "
      ],
      "execution_count": 0,
      "outputs": []
    },
    {
      "metadata": {
        "id": "QEwH4gmZZWi-",
        "colab_type": "code",
        "colab": {
          "base_uri": "https://localhost:8080/",
          "height": 427
        },
        "outputId": "ddf53322-32ab-4433-8f52-31a55401e485"
      },
      "cell_type": "code",
      "source": [
        "#make sure to put your functions at the beginning of the script\n",
        "def user_int_division():\n",
        "  \"\"\"This will take 3 user inputs\n",
        "  first is start range\n",
        "  second is end range\n",
        "  third is divisor\n",
        "  returns integers that are evenly \n",
        "  divisible by divisor\"\"\"\n",
        "  start_int = int(input (\"Enter starting number of your range:\"))\n",
        "  print(\"You entered \", start_int)\n",
        "  end_int = int( input (\"Enter ending number of your range:\"))\n",
        "  print(\"You entered \", end_int)\n",
        "  user_range = range(start_int,end_int)\n",
        "  print(\"Here is your range\")\n",
        "  print (user_range)\n",
        "  #this will print the whole range\n",
        "  #for x in user_range:\n",
        "  #   print (x)\n",
        "  user_divisor= int(input(\"What is your divisor:\"))\n",
        "  for x in user_range:\n",
        "     if x % user_divisor==0:\n",
        "      print (x)    \n",
        "                     \n",
        "\n",
        "\n",
        "while True: \n",
        "    print(\"\\noptions:\\n\"\n",
        "         \"quit\\n\"\n",
        "         \"divide\\n\")\n",
        "    usr_command = input(\"Enter your command: \")\n",
        "    if usr_command == \"quit\":\n",
        "      break\n",
        "    elif usr_command == \"divide\":# and usr_command ==\"p\":\n",
        "      print(\"You are going to enter 3 integers in the next 3 fields.\")\n",
        "      user_int_division()\n",
        "    else: \n",
        "      print(\"You typed \" + usr_command)\n",
        "      \n"
      ],
      "execution_count": 0,
      "outputs": [
        {
          "output_type": "stream",
          "text": [
            "\n",
            "options:\n",
            "quit\n",
            "divide\n",
            "\n",
            "Enter your command: divide\n",
            "You are going to enter 3 integers in the next 3 fields.\n",
            "Enter starting number of your range:4\n",
            "You entered  4\n",
            "Enter ending number of your range:21\n",
            "You entered  21\n",
            "Here is your range\n",
            "range(4, 21)\n",
            "What is your divisor:5\n",
            "5\n",
            "10\n",
            "15\n",
            "20\n",
            "\n",
            "options:\n",
            "quit\n",
            "divide\n",
            "\n"
          ],
          "name": "stdout"
        }
      ]
    },
    {
      "metadata": {
        "id": "FBJuO8tXmtfd",
        "colab_type": "text"
      },
      "cell_type": "markdown",
      "source": [
        ""
      ]
    },
    {
      "metadata": {
        "id": "Vaks2-ERXndX",
        "colab_type": "code",
        "colab": {
          "base_uri": "https://localhost:8080/",
          "height": 51
        },
        "outputId": "4e4e4d5a-839b-45ec-ff5d-5dee3cae0d32"
      },
      "cell_type": "code",
      "source": [
        "\"\"#ask for input\n",
        "number = input(\"Input a number: \")\n",
        "print(\"You entered: \",int(number))\n"
      ],
      "execution_count": 3,
      "outputs": [
        {
          "output_type": "stream",
          "text": [
            "Input a number: 26\n",
            "You entered:  26\n"
          ],
          "name": "stdout"
        }
      ]
    },
    {
      "metadata": {
        "id": "TioR5lYqXvKL",
        "colab_type": "code",
        "colab": {}
      },
      "cell_type": "code",
      "source": [
        ""
      ],
      "execution_count": 0,
      "outputs": []
    }
  ]
}