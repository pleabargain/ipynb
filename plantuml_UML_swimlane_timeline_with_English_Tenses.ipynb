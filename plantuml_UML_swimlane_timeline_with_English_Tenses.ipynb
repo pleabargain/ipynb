{
  "nbformat": 4,
  "nbformat_minor": 0,
  "metadata": {
    "colab": {
      "name": "plantuml UML swimlane timeline with English Tenses",
      "provenance": [],
      "collapsed_sections": [
        "AsCqlGG5fVdq",
        "si2IuDHZfH-6",
        "_VmV6ldNzKhX",
        "y8cM6V-l0OFh",
        "wqEpxNsl27yv"
      ],
      "authorship_tag": "ABX9TyOvymFOF34ae+EsDny5cRuf",
      "include_colab_link": true
    },
    "kernelspec": {
      "name": "python3",
      "display_name": "Python 3"
    },
    "language_info": {
      "name": "python"
    }
  },
  "cells": [
    {
      "cell_type": "markdown",
      "metadata": {
        "id": "view-in-github",
        "colab_type": "text"
      },
      "source": [
        "<a href=\"https://colab.research.google.com/github/pleabargain/ipynb/blob/master/plantuml_UML_swimlane_timeline_with_English_Tenses.ipynb\" target=\"_parent\"><img src=\"https://colab.research.google.com/assets/colab-badge.svg\" alt=\"Open In Colab\"/></a>"
      ]
    },
    {
      "cell_type": "markdown",
      "metadata": {
        "id": "GnZprNNwvB70"
      },
      "source": [
        "# goal\n",
        "Create a time line of the twelve common English tenses. The sequence diagram will be populated with random content from functions.\n",
        "\n",
        "# resources\n",
        "https://plantuml.com/sequence-diagram\n",
        "\n",
        "# usage\n",
        "click on runtime> run all\n",
        "\n",
        "# output\n",
        "text file describing diagram in plantumal syntax\n",
        "\n",
        "and\n",
        "\n",
        "image generated from plantuml syntax"
      ]
    },
    {
      "cell_type": "code",
      "metadata": {
        "id": "LeVswJz0v0ho",
        "colab": {
          "base_uri": "https://localhost:8080/"
        },
        "outputId": "9d96d331-6bce-446b-ca1f-193d6b3baa0e"
      },
      "source": [
        "!pip install icecream\n",
        "! pip install plantuml\n",
        "\n",
        "import random\n",
        "from icecream import ic"
      ],
      "execution_count": 17,
      "outputs": [
        {
          "output_type": "stream",
          "text": [
            "Requirement already satisfied: icecream in /usr/local/lib/python3.7/dist-packages (2.1.0)\n",
            "Requirement already satisfied: colorama>=0.3.9 in /usr/local/lib/python3.7/dist-packages (from icecream) (0.4.4)\n",
            "Requirement already satisfied: asttokens>=2.0.1 in /usr/local/lib/python3.7/dist-packages (from icecream) (2.0.5)\n",
            "Requirement already satisfied: executing>=0.3.1 in /usr/local/lib/python3.7/dist-packages (from icecream) (0.6.0)\n",
            "Requirement already satisfied: pygments>=2.2.0 in /usr/local/lib/python3.7/dist-packages (from icecream) (2.6.1)\n",
            "Requirement already satisfied: six in /usr/local/lib/python3.7/dist-packages (from asttokens>=2.0.1->icecream) (1.15.0)\n",
            "Requirement already satisfied: plantuml in /usr/local/lib/python3.7/dist-packages (0.3.0)\n",
            "Requirement already satisfied: httplib2 in /usr/local/lib/python3.7/dist-packages (from plantuml) (0.17.4)\n"
          ],
          "name": "stdout"
        }
      ]
    },
    {
      "cell_type": "markdown",
      "metadata": {
        "id": "iMzrXTVxGKCO"
      },
      "source": [
        "# list of installed pip"
      ]
    },
    {
      "cell_type": "code",
      "metadata": {
        "id": "ZcVSCTjw_TPr"
      },
      "source": [
        "! pip list"
      ],
      "execution_count": null,
      "outputs": []
    },
    {
      "cell_type": "markdown",
      "metadata": {
        "id": "AsCqlGG5fVdq"
      },
      "source": [
        "# past simple"
      ]
    },
    {
      "cell_type": "code",
      "metadata": {
        "colab": {
          "base_uri": "https://localhost:8080/",
          "height": 51
        },
        "id": "fyOEFsjsfVdr",
        "outputId": "09c35819-382e-44f6-d99e-67ec7cfb47e3"
      },
      "source": [
        "filename = \"past_simple.txt\"\n",
        "directory = \"/content/\"\n",
        "f= open(f\"{directory}past_simple.txt\",\"w+\")\n",
        "f.write(f\"\"\"I went to school...\n",
        "We ate ...\n",
        "They liked ...\n",
        "\"\"\")\n",
        "f.close()\n",
        "\n",
        "example1 = f\"{directory}past_simple.txt\"\n",
        "with open(example1, \"r\") as file1:\n",
        "    FileasList = file1.readlines()\n",
        "\n",
        "\n",
        "def r_past_simple():\n",
        "    lines = open(f\"{directory}past_simple.txt\").read().splitlines()\n",
        "    myline =random.choice(lines)\n",
        "    # print(myline)\n",
        "    return str(myline)\n",
        "ic(r_past_simple())"
      ],
      "execution_count": 19,
      "outputs": [
        {
          "output_type": "stream",
          "text": [
            "ic| r_past_simple(): 'They liked ...'\n"
          ],
          "name": "stderr"
        },
        {
          "output_type": "execute_result",
          "data": {
            "application/vnd.google.colaboratory.intrinsic+json": {
              "type": "string"
            },
            "text/plain": [
              "'They liked ...'"
            ]
          },
          "metadata": {
            "tags": []
          },
          "execution_count": 19
        }
      ]
    },
    {
      "cell_type": "markdown",
      "metadata": {
        "id": "si2IuDHZfH-6"
      },
      "source": [
        "# past perfect continuous"
      ]
    },
    {
      "cell_type": "code",
      "metadata": {
        "colab": {
          "base_uri": "https://localhost:8080/",
          "height": 0
        },
        "id": "0m3vQMQzGa_x",
        "outputId": "20939014-c398-4f36-ceb9-a12a63a42f8c"
      },
      "source": [
        "filename = \"past_perfect_continuous.txt\"\n",
        "directory = \"/content/\"\n",
        "f= open(f\"{directory}{filename}\",\"w+\")\n",
        "f.write(f\"\"\"I had been going to school...\n",
        "We had been eating...\n",
        "She had been taken...\n",
        "\"\"\")\n",
        "f.close()\n",
        "\n",
        "example1 = f\"{directory}{filename}\"\n",
        "with open(example1, \"r\") as file1:\n",
        "    FileasList = file1.readlines()\n",
        "\n",
        "\n",
        "def r_past_perfect_continuous():\n",
        "    lines = open(f\"{directory}{filename}\").read().splitlines()\n",
        "    myline =random.choice(lines)\n",
        "    # print(myline)\n",
        "    return str(myline)\n",
        "ic(r_past_perfect_continuous())"
      ],
      "execution_count": 20,
      "outputs": [
        {
          "output_type": "stream",
          "text": [
            "ic| r_past_perfect_continuous(): 'I had been going to school...'\n"
          ],
          "name": "stderr"
        },
        {
          "output_type": "execute_result",
          "data": {
            "application/vnd.google.colaboratory.intrinsic+json": {
              "type": "string"
            },
            "text/plain": [
              "'I had been going to school...'"
            ]
          },
          "metadata": {
            "tags": []
          },
          "execution_count": 20
        }
      ]
    },
    {
      "cell_type": "markdown",
      "metadata": {
        "id": "_VmV6ldNzKhX"
      },
      "source": [
        "# past perfect "
      ]
    },
    {
      "cell_type": "code",
      "metadata": {
        "colab": {
          "base_uri": "https://localhost:8080/",
          "height": 0
        },
        "id": "RMkRucEFzKhk",
        "outputId": "750e6a6d-57b6-43de-f095-80d77006844f"
      },
      "source": [
        "filename = \"past_perfect.txt\"\n",
        "directory = \"/content/\"\n",
        "f= open(f\"{directory}past_perfect.txt\",\"w+\")\n",
        "f.write(f\"\"\"I had gone to ...\n",
        "We had eaten...\n",
        "She had taken...\n",
        "They had left ...\n",
        "\"\"\")\n",
        "f.close()\n",
        "\n",
        "example1 = f\"{directory}past_perfect.txt\"\n",
        "with open(example1, \"r\") as file1:\n",
        "    FileasList = file1.readlines()\n",
        "\n",
        "\n",
        "def r_past_perfect():\n",
        "    lines = open(f\"{directory}past_perfect.txt\").read().splitlines()\n",
        "    myline =random.choice(lines)\n",
        "    # print(myline)\n",
        "    return str(myline)\n",
        "ic(r_past_perfect())"
      ],
      "execution_count": 21,
      "outputs": [
        {
          "output_type": "stream",
          "text": [
            "ic| r_past_perfect(): 'She had taken...'\n"
          ],
          "name": "stderr"
        },
        {
          "output_type": "execute_result",
          "data": {
            "application/vnd.google.colaboratory.intrinsic+json": {
              "type": "string"
            },
            "text/plain": [
              "'She had taken...'"
            ]
          },
          "metadata": {
            "tags": []
          },
          "execution_count": 21
        }
      ]
    },
    {
      "cell_type": "markdown",
      "metadata": {
        "id": "BHcXc-bMz0iK"
      },
      "source": [
        "# past continuous"
      ]
    },
    {
      "cell_type": "code",
      "metadata": {
        "colab": {
          "base_uri": "https://localhost:8080/",
          "height": 51
        },
        "id": "OT-24hvSz0iL",
        "outputId": "ae4b19e7-412f-4739-c0d5-f6ec5dd7fcde"
      },
      "source": [
        "filename = \"past_continuous.txt\"\n",
        "directory = \"/content/\"\n",
        "f= open(f\"{directory}past_continuous.txt\",\"w+\")\n",
        "f.write(f\"\"\"I was going to ...\n",
        "We were eating...\n",
        "She was taking...\n",
        "They were leaving ...\n",
        "\"\"\")\n",
        "f.close()\n",
        "\n",
        "example1 = f\"{directory}past_continuous.txt\"\n",
        "with open(example1, \"r\") as file1:\n",
        "    FileasList = file1.readlines()\n",
        "\n",
        "\n",
        "def r_past_continuous():\n",
        "    lines = open(f\"{directory}past_continuous.txt\").read().splitlines()\n",
        "    myline =random.choice(lines)\n",
        "    # print(myline)\n",
        "    return str(myline)\n",
        "ic(r_past_continuous())"
      ],
      "execution_count": 22,
      "outputs": [
        {
          "output_type": "stream",
          "text": [
            "ic| r_past_continuous(): 'We were eating...'\n"
          ],
          "name": "stderr"
        },
        {
          "output_type": "execute_result",
          "data": {
            "application/vnd.google.colaboratory.intrinsic+json": {
              "type": "string"
            },
            "text/plain": [
              "'We were eating...'"
            ]
          },
          "metadata": {
            "tags": []
          },
          "execution_count": 22
        }
      ]
    },
    {
      "cell_type": "markdown",
      "metadata": {
        "id": "y8cM6V-l0OFh"
      },
      "source": [
        "# present simple"
      ]
    },
    {
      "cell_type": "code",
      "metadata": {
        "colab": {
          "base_uri": "https://localhost:8080/",
          "height": 0
        },
        "id": "ocCgOzR50OFi",
        "outputId": "31ce688a-d906-4e5d-9350-2cac984f8bf8"
      },
      "source": [
        "filename = \"present_simple.txt\"\n",
        "directory = \"/content/\"\n",
        "f= open(f\"{directory}present_simple.txt\",\"w+\")\n",
        "f.write(f\"\"\"I go to school...\n",
        "We eat ...\n",
        "They like ...\n",
        "\"\"\")\n",
        "f.close()\n",
        "\n",
        "example1 = f\"{directory}present_simple.txt\"\n",
        "with open(example1, \"r\") as file1:\n",
        "    FileasList = file1.readlines()\n",
        "\n",
        "\n",
        "def r_present_simple():\n",
        "    lines = open(f\"{directory}present_simple.txt\").read().splitlines()\n",
        "    myline =random.choice(lines)\n",
        "    # print(myline)\n",
        "    return str(myline)\n",
        "ic(r_present_simple())"
      ],
      "execution_count": 23,
      "outputs": [
        {
          "output_type": "stream",
          "text": [
            "ic| r_present_simple(): 'I go to school...'\n"
          ],
          "name": "stderr"
        },
        {
          "output_type": "execute_result",
          "data": {
            "application/vnd.google.colaboratory.intrinsic+json": {
              "type": "string"
            },
            "text/plain": [
              "'I go to school...'"
            ]
          },
          "metadata": {
            "tags": []
          },
          "execution_count": 23
        }
      ]
    },
    {
      "cell_type": "markdown",
      "metadata": {
        "id": "wqEpxNsl27yv"
      },
      "source": [
        "# present perfect continuous"
      ]
    },
    {
      "cell_type": "code",
      "metadata": {
        "colab": {
          "base_uri": "https://localhost:8080/",
          "height": 0
        },
        "id": "u7ars03A27yv",
        "outputId": "b633ce50-6a93-4d2a-bb3b-d9208e3909aa"
      },
      "source": [
        "filename = \"present_perfect_continuous.txt\"\n",
        "directory = \"/content/\"\n",
        "f= open(f\"{directory}{filename}\",\"w+\")\n",
        "f.write(f\"\"\"I have been going to...\n",
        "We have been eating ...\n",
        "They have been liking ...\n",
        "\"\"\")\n",
        "f.close()\n",
        "\n",
        "example1 = f\"{directory}present_perfect_continuous.txt\"\n",
        "with open(example1, \"r\") as file1:\n",
        "    FileasList = file1.readlines()\n",
        "\n",
        "\n",
        "def r_present_perfect_continuous():\n",
        "    lines = open(f\"{directory}present_perfect_continuous.txt\").read().splitlines()\n",
        "    myline =random.choice(lines)\n",
        "    # print(myline)\n",
        "    return str(myline)\n",
        "ic(r_present_perfect_continuous())"
      ],
      "execution_count": 24,
      "outputs": [
        {
          "output_type": "stream",
          "text": [
            "ic| r_present_perfect_continuous(): 'I have been going to...'\n"
          ],
          "name": "stderr"
        },
        {
          "output_type": "execute_result",
          "data": {
            "application/vnd.google.colaboratory.intrinsic+json": {
              "type": "string"
            },
            "text/plain": [
              "'I have been going to...'"
            ]
          },
          "metadata": {
            "tags": []
          },
          "execution_count": 24
        }
      ]
    },
    {
      "cell_type": "markdown",
      "metadata": {
        "id": "Hi9ppI3O3abn"
      },
      "source": [
        "# present perfect"
      ]
    },
    {
      "cell_type": "code",
      "metadata": {
        "colab": {
          "base_uri": "https://localhost:8080/",
          "height": 51
        },
        "id": "ZSLsZ1uB3abn",
        "outputId": "8252ee50-9af1-4ecf-9a9c-e8ffb612e0bd"
      },
      "source": [
        "filename = \"present_perfect.txt\"\n",
        "directory = \"/content/\"\n",
        "f= open(f\"{directory}present_perfect.txt\",\"w+\")\n",
        "f.write(f\"\"\"I have been to...\n",
        "We have eaten ...\n",
        "They have liked ...\n",
        "\"\"\")\n",
        "f.close()\n",
        "\n",
        "example1 = f\"{directory}present_perfect.txt\"\n",
        "with open(example1, \"r\") as file1:\n",
        "    FileasList = file1.readlines()\n",
        "\n",
        "\n",
        "def r_present_perfect():\n",
        "    lines = open(f\"{directory}present_perfect.txt\").read().splitlines()\n",
        "    myline =random.choice(lines)\n",
        "    # print(myline)\n",
        "    return str(myline)\n",
        "ic(r_present_perfect())"
      ],
      "execution_count": 25,
      "outputs": [
        {
          "output_type": "stream",
          "text": [
            "ic| r_present_perfect(): 'I have been to...'\n"
          ],
          "name": "stderr"
        },
        {
          "output_type": "execute_result",
          "data": {
            "application/vnd.google.colaboratory.intrinsic+json": {
              "type": "string"
            },
            "text/plain": [
              "'I have been to...'"
            ]
          },
          "metadata": {
            "tags": []
          },
          "execution_count": 25
        }
      ]
    },
    {
      "cell_type": "markdown",
      "metadata": {
        "id": "y-rGzQWs3w2s"
      },
      "source": [
        "# present continuous"
      ]
    },
    {
      "cell_type": "code",
      "metadata": {
        "colab": {
          "base_uri": "https://localhost:8080/",
          "height": 51
        },
        "id": "8jSjvF4m3w2t",
        "outputId": "ffe28b29-63cf-4357-9780-46b7d10c5860"
      },
      "source": [
        "filename = \"present_continuous.txt\"\n",
        "directory = \"/content/\"\n",
        "f= open(f\"{directory}present_continuous.txt\",\"w+\")\n",
        "f.write(f\"\"\"I am going to...\n",
        "We are planning to ...\n",
        "She is initiating ...\n",
        "They are preparing for ...\n",
        "\"\"\")\n",
        "f.close()\n",
        "\n",
        "example1 = f\"{directory}present_continuous.txt\"\n",
        "with open(example1, \"r\") as file1:\n",
        "    FileasList = file1.readlines()\n",
        "\n",
        "\n",
        "def r_present_continuous():\n",
        "    lines = open(f\"{directory}present_continuous.txt\").read().splitlines()\n",
        "    myline =random.choice(lines)\n",
        "    # print(myline)\n",
        "    return str(myline)\n",
        "ic(r_present_continuous())"
      ],
      "execution_count": 26,
      "outputs": [
        {
          "output_type": "stream",
          "text": [
            "ic| r_present_continuous(): 'They are preparing for ...'\n"
          ],
          "name": "stderr"
        },
        {
          "output_type": "execute_result",
          "data": {
            "application/vnd.google.colaboratory.intrinsic+json": {
              "type": "string"
            },
            "text/plain": [
              "'They are preparing for ...'"
            ]
          },
          "metadata": {
            "tags": []
          },
          "execution_count": 26
        }
      ]
    },
    {
      "cell_type": "markdown",
      "metadata": {
        "id": "AI7CFuXL4udV"
      },
      "source": [
        "# future simple"
      ]
    },
    {
      "cell_type": "code",
      "metadata": {
        "colab": {
          "base_uri": "https://localhost:8080/",
          "height": 51
        },
        "id": "f1XRUzCp4udd",
        "outputId": "95dc1229-e075-47cc-849e-50ef1c3f4c84"
      },
      "source": [
        "filename = \"future_simple.txt\"\n",
        "directory = \"/content/\"\n",
        "f= open(f\"{directory}future_simple.txt\",\"w+\")\n",
        "f.write(f\"\"\"I will go to school...\n",
        "We will eat ...\n",
        "They will like ...\n",
        "\"\"\")\n",
        "f.close()\n",
        "\n",
        "example1 = f\"{directory}future_simple.txt\"\n",
        "with open(example1, \"r\") as file1:\n",
        "    FileasList = file1.readlines()\n",
        "\n",
        "\n",
        "def r_future_simple():\n",
        "    lines = open(f\"{directory}future_simple.txt\").read().splitlines()\n",
        "    myline =random.choice(lines)\n",
        "    # print(myline)\n",
        "    return str(myline)\n",
        "ic(r_future_simple())"
      ],
      "execution_count": 27,
      "outputs": [
        {
          "output_type": "stream",
          "text": [
            "ic| r_future_simple(): 'We will eat ...'\n"
          ],
          "name": "stderr"
        },
        {
          "output_type": "execute_result",
          "data": {
            "application/vnd.google.colaboratory.intrinsic+json": {
              "type": "string"
            },
            "text/plain": [
              "'We will eat ...'"
            ]
          },
          "metadata": {
            "tags": []
          },
          "execution_count": 27
        }
      ]
    },
    {
      "cell_type": "markdown",
      "metadata": {
        "id": "IIFNoF8y4_a5"
      },
      "source": [
        "# future perfect continuous"
      ]
    },
    {
      "cell_type": "code",
      "metadata": {
        "colab": {
          "base_uri": "https://localhost:8080/",
          "height": 51
        },
        "id": "XF2nvfoF4_a5",
        "outputId": "a3f43805-1fb9-42e5-d915-4f91320c5b35"
      },
      "source": [
        "filename = \"future_perfect_continuous.txt\"\n",
        "directory = \"/content/\"\n",
        "f= open(f\"{directory}future_perfect_continuous.txt\",\"w+\")\n",
        "f.write(f\"\"\"I will have been going to...\n",
        "We will have been eating ...\n",
        "They will have been liking ...\n",
        "She will have been working ...\n",
        "\"\"\")\n",
        "f.close()\n",
        "\n",
        "example1 = f\"{directory}future_perfect_continuous.txt\"\n",
        "with open(example1, \"r\") as file1:\n",
        "    FileasList = file1.readlines()\n",
        "\n",
        "\n",
        "def r_future_perfect_continuous():\n",
        "    lines = open(f\"{directory}future_perfect_continuous.txt\").read().splitlines()\n",
        "    myline =random.choice(lines)\n",
        "    # print(myline)\n",
        "    return str(myline)\n",
        "ic(r_future_perfect_continuous())"
      ],
      "execution_count": 28,
      "outputs": [
        {
          "output_type": "stream",
          "text": [
            "ic| r_future_perfect_continuous(): 'We will have been eating ...'\n"
          ],
          "name": "stderr"
        },
        {
          "output_type": "execute_result",
          "data": {
            "application/vnd.google.colaboratory.intrinsic+json": {
              "type": "string"
            },
            "text/plain": [
              "'We will have been eating ...'"
            ]
          },
          "metadata": {
            "tags": []
          },
          "execution_count": 28
        }
      ]
    },
    {
      "cell_type": "markdown",
      "metadata": {
        "id": "T9xYi8Hw5bpX"
      },
      "source": [
        "# future perfect "
      ]
    },
    {
      "cell_type": "code",
      "metadata": {
        "colab": {
          "base_uri": "https://localhost:8080/",
          "height": 51
        },
        "id": "RQC8J2io5bpX",
        "outputId": "9d45ed49-5808-4735-d607-263eb1d419e4"
      },
      "source": [
        "filename = \"future_perfect.txt\"\n",
        "directory = \"/content/\"\n",
        "f= open(f\"{directory}future_perfect.txt\",\"w+\")\n",
        "f.write(f\"\"\"I will have gone to...\n",
        "We will have finished ...\n",
        "They will have finished work ...\n",
        "She will have discovered ...\n",
        "\"\"\")\n",
        "f.close()\n",
        "\n",
        "example1 = f\"{directory}future_perfect.txt\"\n",
        "with open(example1, \"r\") as file1:\n",
        "    FileasList = file1.readlines()\n",
        "\n",
        "\n",
        "def r_future_perfect():\n",
        "    lines = open(f\"{directory}future_perfect.txt\").read().splitlines()\n",
        "    myline =random.choice(lines)\n",
        "    # print(myline)\n",
        "    return str(myline)\n",
        "ic(r_future_perfect())"
      ],
      "execution_count": 29,
      "outputs": [
        {
          "output_type": "stream",
          "text": [
            "ic| r_future_perfect(): 'We will have finished ...'\n"
          ],
          "name": "stderr"
        },
        {
          "output_type": "execute_result",
          "data": {
            "application/vnd.google.colaboratory.intrinsic+json": {
              "type": "string"
            },
            "text/plain": [
              "'We will have finished ...'"
            ]
          },
          "metadata": {
            "tags": []
          },
          "execution_count": 29
        }
      ]
    },
    {
      "cell_type": "markdown",
      "metadata": {
        "id": "Wk55rUVU6Ip1"
      },
      "source": [
        "# future continuous"
      ]
    },
    {
      "cell_type": "code",
      "metadata": {
        "colab": {
          "base_uri": "https://localhost:8080/",
          "height": 51
        },
        "id": "GtC9VgFD6Ip2",
        "outputId": "7c9be7d8-3d8e-4b70-8fe0-f28e099d3f35"
      },
      "source": [
        "filename = \"future_continuous.txt\"\n",
        "directory = \"/content/\"\n",
        "f= open(f\"{directory}future_continuous.txt\",\"w+\")\n",
        "f.write(f\"\"\"I will be going to...\n",
        "We will be finishing ...\n",
        "She will be discovering ...\n",
        "You will be sleeping ...\n",
        "They will be working ...\n",
        "Our team will be flying...\n",
        "\"\"\")\n",
        "f.close()\n",
        "\n",
        "example1 = f\"{directory}future_continuous.txt\"\n",
        "with open(example1, \"r\") as file1:\n",
        "    FileasList = file1.readlines()\n",
        "\n",
        "\n",
        "def r_future_continuous():\n",
        "    lines = open(f\"{directory}future_continuous.txt\").read().splitlines()\n",
        "    myline =random.choice(lines)\n",
        "    # print(myline)\n",
        "    return str(myline)\n",
        "ic(r_future_continuous())"
      ],
      "execution_count": 30,
      "outputs": [
        {
          "output_type": "stream",
          "text": [
            "ic| r_future_continuous(): 'She will be discovering ...'\n"
          ],
          "name": "stderr"
        },
        {
          "output_type": "execute_result",
          "data": {
            "application/vnd.google.colaboratory.intrinsic+json": {
              "type": "string"
            },
            "text/plain": [
              "'She will be discovering ...'"
            ]
          },
          "metadata": {
            "tags": []
          },
          "execution_count": 30
        }
      ]
    },
    {
      "cell_type": "markdown",
      "metadata": {
        "id": "0qljWx6dVKnc"
      },
      "source": [
        "# sequence generator\n",
        "\n",
        "notes\n",
        "\n",
        "the order of the lines is very important\n",
        "\n",
        "column headers cannot have spaces or line breaks"
      ]
    },
    {
      "cell_type": "markdown",
      "metadata": {
        "id": "N-X3jOazAwj2"
      },
      "source": [
        "clean up text files and png"
      ]
    },
    {
      "cell_type": "code",
      "metadata": {
        "id": "e6K9YKnbAzg7"
      },
      "source": [
        "#! rm \"/content/tenses.txt\"\n",
        "! rm *.png"
      ],
      "execution_count": 35,
      "outputs": []
    },
    {
      "cell_type": "code",
      "metadata": {
        "colab": {
          "base_uri": "https://localhost:8080/"
        },
        "id": "18RHWnB7VAum",
        "outputId": "4b073c6e-ceb1-4e98-93ae-932348c40d20"
      },
      "source": [
        "f= open(\"/content/tenses.txt\",\"w+\")\n",
        "f.write(f\"\"\"title Twelve English Tenses\n",
        "\n",
        "PAST->PAST_SIMPLE:\n",
        "note left of PAST_SIMPLE: {r_past_simple()}\n",
        "PAST->PAST_PERFECT_CONTINUOUS:\n",
        "note left of PAST_PERFECT_CONTINUOUS: {r_past_perfect_continuous()}\n",
        "PAST->PAST_PERFECT: \n",
        "note left of PAST_PERFECT: {r_past_perfect()}\n",
        "PAST->PAST_CONTINUOUS:\n",
        "note left of PAST_CONTINUOUS: {r_past_continuous()}\n",
        "\n",
        "PAST->PRESENT: \n",
        "PRESENT->PRSNT_SIMPLE\n",
        "note left of PRSNT_SIMPLE: {r_present_simple()}\n",
        "PRESENT->PRSNT_PERFECT_CONTINUOUS\n",
        "note left of PRSNT_PERFECT_CONTINUOUS: {r_present_perfect_continuous()}\n",
        "PRESENT->PRSNT_PERFECT\n",
        "note left of PRSNT_PERFECT: {r_present_perfect()}\n",
        "PRESENT->PRSNT_CONTINUOUS\n",
        "note left of PRSNT_CONTINUOUS: {r_present_continuous()}\n",
        "\n",
        "\n",
        "PRESENT->FUTURE:\n",
        "FUTURE->FUTURE_SIMPLE\n",
        "note left of FUTURE_SIMPLE: {r_future_simple()}\n",
        "FUTURE->FUTURE_PERFECT_CONTINUOUS\n",
        "note left of FUTURE_PERFECT_CONTINUOUS: {r_future_perfect_continuous()}\n",
        "FUTURE->FUTURE_PERFECT\n",
        "note left of FUTURE_PERFECT: {r_future_perfect()}\n",
        "FUTURE->FUTURE_CONTINUOUS\n",
        "note left of FUTURE_CONTINUOUS: {r_future_continuous()}\n",
        "center footer Generated for demonstration\n",
        "\n",
        "\"\"\")\n",
        "f.close()\n",
        "\n",
        "example1 = \"/content/tenses.txt\"\n",
        "with open(example1, \"r\") as file1:\n",
        "    FileasList = file1.readlines()\n",
        "\n",
        "!python -m plantuml tenses.txt"
      ],
      "execution_count": 36,
      "outputs": [
        {
          "output_type": "stream",
          "text": [
            "[{'filename': 'tenses.txt', 'gen_success': True}]\n"
          ],
          "name": "stdout"
        }
      ]
    }
  ]
}