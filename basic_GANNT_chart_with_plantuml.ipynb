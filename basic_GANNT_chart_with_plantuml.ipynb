{
  "nbformat": 4,
  "nbformat_minor": 0,
  "metadata": {
    "colab": {
      "name": "basic GANNT chart with plantuml",
      "provenance": [],
      "collapsed_sections": [],
      "toc_visible": true,
      "authorship_tag": "ABX9TyM0ALXXwkv+uwJcBfMt6OGD",
      "include_colab_link": true
    },
    "kernelspec": {
      "name": "python3",
      "display_name": "Python 3"
    },
    "language_info": {
      "name": "python"
    }
  },
  "cells": [
    {
      "cell_type": "markdown",
      "metadata": {
        "id": "view-in-github",
        "colab_type": "text"
      },
      "source": [
        "<a href=\"https://colab.research.google.com/github/pleabargain/ipynb/blob/master/basic_GANNT_chart_with_plantuml.ipynb\" target=\"_parent\"><img src=\"https://colab.research.google.com/assets/colab-badge.svg\" alt=\"Open In Colab\"/></a>"
      ]
    },
    {
      "cell_type": "markdown",
      "metadata": {
        "id": "XFENJvGlNwAt"
      },
      "source": [
        "# basic GANNT chart\n",
        "## usage\n",
        "runtime > runall\n",
        "\n",
        "## bugs\n",
        "* can't get the tasks to start on different days though\n",
        "* text doesn't wrap"
      ]
    },
    {
      "cell_type": "code",
      "metadata": {
        "colab": {
          "base_uri": "https://localhost:8080/"
        },
        "id": "d5C6VYocOpd6",
        "outputId": "8da109bf-2ec6-4554-d6c6-8548b139ece0"
      },
      "source": [
        "# import the necessary tools\n",
        "! pip install plantuml"
      ],
      "execution_count": 1,
      "outputs": [
        {
          "output_type": "stream",
          "text": [
            "Collecting plantuml\n",
            "  Downloading https://files.pythonhosted.org/packages/a9/1a/4603314acf466fdad91b7f6c83eb1364a7e279f9a8805febe3554f17faf6/plantuml-0.3.0-py3-none-any.whl\n",
            "Requirement already satisfied: httplib2 in /usr/local/lib/python3.7/dist-packages (from plantuml) (0.17.4)\n",
            "Installing collected packages: plantuml\n",
            "Successfully installed plantuml-0.3.0\n"
          ],
          "name": "stdout"
        }
      ]
    },
    {
      "cell_type": "code",
      "metadata": {
        "id": "_oEVGpZGQuXr"
      },
      "source": [
        "# get rid of prior png\n",
        "!rm *.png\n",
        "!rm *.txt"
      ],
      "execution_count": 14,
      "outputs": []
    },
    {
      "cell_type": "code",
      "metadata": {
        "id": "bjPy9ZPiOLIL"
      },
      "source": [
        "f= open(\"/content/ganntchartdemo.txt\",\"w+\")\n",
        "f.write(f\"\"\"[Prototype design] lasts 35 days\n",
        "[Test prototype] lasts 10 days\n",
        "-- A poor as it lacks the ability to set a different start day example --\n",
        "[Task 1 (3 day)] lasts 3 days\n",
        "[T2 (5 days)] lasts 5 days\n",
        "[T3 (1 week)] lasts 1 week\n",
        "[T4 (1 week and 4 days)] lasts 1 week and 4 days\n",
        "[T5 (2 weeks)] lasts 2 weeks\n",
        "\"\"\")\n",
        "f.close()\n",
        "\n"
      ],
      "execution_count": 15,
      "outputs": []
    },
    {
      "cell_type": "markdown",
      "metadata": {
        "id": "kMI8AJhlNyEk"
      },
      "source": [
        "# create a GANNT chart programmitically"
      ]
    },
    {
      "cell_type": "code",
      "metadata": {
        "colab": {
          "base_uri": "https://localhost:8080/"
        },
        "id": "R1zsMAaQNvTA",
        "outputId": "016ed5e5-1388-49de-f559-2ed48326bfb1"
      },
      "source": [
        "!python -m plantuml ganntchartdemo.txt"
      ],
      "execution_count": 16,
      "outputs": [
        {
          "output_type": "stream",
          "text": [
            "[{'filename': 'ganntchartdemo.txt', 'gen_success': True}]\n"
          ],
          "name": "stdout"
        }
      ]
    }
  ]
}