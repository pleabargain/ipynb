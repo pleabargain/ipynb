{
  "nbformat": 4,
  "nbformat_minor": 0,
  "metadata": {
    "colab": {
      "name": "basic GANNT chart with plantuml",
      "provenance": [],
      "collapsed_sections": [],
      "toc_visible": true,
      "authorship_tag": "ABX9TyODyTbK7lJpE1stIkv4RcCz",
      "include_colab_link": true
    },
    "kernelspec": {
      "name": "python3",
      "display_name": "Python 3"
    },
    "language_info": {
      "name": "python"
    }
  },
  "cells": [
    {
      "cell_type": "markdown",
      "metadata": {
        "id": "view-in-github",
        "colab_type": "text"
      },
      "source": [
        "<a href=\"https://colab.research.google.com/github/pleabargain/ipynb/blob/master/basic_GANNT_chart_with_plantuml.ipynb\" target=\"_parent\"><img src=\"https://colab.research.google.com/assets/colab-badge.svg\" alt=\"Open In Colab\"/></a>"
      ]
    },
    {
      "cell_type": "markdown",
      "metadata": {
        "id": "XFENJvGlNwAt"
      },
      "source": [
        "# basic GANNT chart\n",
        "## usage\n",
        "runtime > runall\n",
        "\n",
        "## bugs\n",
        "* can't get the tasks to start on different days though\n",
        "* text doesn't wrap"
      ]
    },
    {
      "cell_type": "code",
      "metadata": {
        "colab": {
          "base_uri": "https://localhost:8080/"
        },
        "id": "d5C6VYocOpd6",
        "outputId": "ffc25fa7-bf9f-46aa-c6fc-7ac87c75b5f0"
      },
      "source": [
        "# import the necessary tools\n",
        "! pip install plantuml"
      ],
      "execution_count": 12,
      "outputs": [
        {
          "output_type": "stream",
          "text": [
            "Requirement already satisfied: plantuml in /usr/local/lib/python3.7/dist-packages (0.3.0)\n",
            "Requirement already satisfied: httplib2 in /usr/local/lib/python3.7/dist-packages (from plantuml) (0.17.4)\n"
          ],
          "name": "stdout"
        }
      ]
    },
    {
      "cell_type": "code",
      "metadata": {
        "id": "_oEVGpZGQuXr"
      },
      "source": [
        "# get rid of prior png\n",
        "!rm *.png"
      ],
      "execution_count": 25,
      "outputs": []
    },
    {
      "cell_type": "code",
      "metadata": {
        "id": "bjPy9ZPiOLIL"
      },
      "source": [
        "f= open(\"/content/ganntchartdemo.txt\",\"w+\")\n",
        "f.write(f\"\"\"[Prototype design] lasts 15 days\n",
        "[Test prototype] lasts 10 days\n",
        "-- A poor as it lacks the ability to set a different --\n",
        "-- start day example --\n",
        "[Task 1 (3 day)] lasts 3 days\n",
        "[T2 (5 days)] lasts 5 days\n",
        "[T3 (1 week)] lasts 1 week\n",
        "[T4 (1 week and 4 days)] lasts 1 week and 4 days\n",
        "[T5 (2 weeks)] lasts 2 weeks\n",
        "\"\"\")\n",
        "f.close()\n",
        "\n"
      ],
      "execution_count": 26,
      "outputs": []
    },
    {
      "cell_type": "markdown",
      "metadata": {
        "id": "kMI8AJhlNyEk"
      },
      "source": [
        "# create a GANNT chart programmitically"
      ]
    },
    {
      "cell_type": "code",
      "metadata": {
        "colab": {
          "base_uri": "https://localhost:8080/"
        },
        "id": "R1zsMAaQNvTA",
        "outputId": "f35103c4-9c0e-4ae0-cc97-1898d2878041"
      },
      "source": [
        "!python -m plantuml ganntchartdemo.txt"
      ],
      "execution_count": 27,
      "outputs": [
        {
          "output_type": "stream",
          "text": [
            "[{'filename': 'ganntchartdemo.txt', 'gen_success': True}]\n"
          ],
          "name": "stdout"
        }
      ]
    }
  ]
}